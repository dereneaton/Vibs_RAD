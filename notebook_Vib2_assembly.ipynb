{
 "metadata": {
  "name": "",
  "signature": "sha256:52433309cb69c1a254abcb4c30ec0197c9517ddf0408e27cbb7584db095dd4ae"
 },
 "nbformat": 3,
 "nbformat_minor": 0,
 "worksheets": [
  {
   "cells": [
    {
     "cell_type": "markdown",
     "metadata": {},
     "source": [
      "# Viburnum RADseq project\n",
      "### Notebook 2: Assembling RADseq data sets\n",
      "\n",
      "-----------------------   \n"
     ]
    },
    {
     "cell_type": "markdown",
     "metadata": {},
     "source": [
      "### Organization  \n",
      "This notebook shows how we will download sequence data from an online data base, filter reads, cluster them into stacks, and filter and call consensus sequences from those stacks. Consensus sequences will then be clustered together across different subsets of this collection of samples to yield a number of different data sets applicable to projects at different phylogenetic scales. "
     ]
    },
    {
     "cell_type": "markdown",
     "metadata": {},
     "source": [
      "### Download the sequence data  \n",
      "The data are downloaded from NCBI using the `wget` command into our working directory in a subdirectory called `fastq/`."
     ]
    },
    {
     "cell_type": "code",
     "collapsed": false,
     "input": [
      "%%bash\n",
      "## create a directory to store raw data\n",
      "mkdir -p fastq\n",
      "\n",
      "## Insert commands here to download data from NCBI SRA to the raw data directory\n",
      "## backup is stored here: /home/fas/donoghue/de243/Viburnums/fastq/\n",
      "## wget xxxx"
     ],
     "language": "python",
     "metadata": {},
     "outputs": []
    },
    {
     "cell_type": "markdown",
     "metadata": {},
     "source": [
      "### Create a new template params file for _pyRAD_ analyses  \n",
      "For simplicity we will start from a fresh template params file created with the script below."
     ]
    },
    {
     "cell_type": "code",
     "collapsed": false,
     "input": [
      "%%bash\n",
      "## Create a template params file to use for this analysis.\n",
      "## Delete an old one if it already exists in this directory.\n",
      "## If running on an HPC cluster you need to load Python and \n",
      "## and the Numpy and Scipy modules before beginning.\n",
      "~/pyrad_v.2.15/pyRAD -n"
     ],
     "language": "python",
     "metadata": {},
     "outputs": []
    },
    {
     "cell_type": "markdown",
     "metadata": {},
     "source": [
      "### Setup the params file for our analysis"
     ]
    },
    {
     "cell_type": "code",
     "collapsed": false,
     "input": [
      "%%bash\n",
      "## substitute new params into file\n",
      "sed -i '/## 1. /c\\                            ## 1. working directory ' params.txt\n",
      "sed -i '/## 7. /c\\20                          ## 7. N processors  ' params.txt\n",
      "sed -i '/## 8. /c\\6                           ## 8. Mindepth  ' params.txt\n",
      "sed -i '/## 9. /c\\4                           ## 9. NQual  ' params.txt\n",
      "sed -i '/## 10./c\\.88                         ## 10. NQual  ' params.txt\n",
      "sed -i '/## 18./c\\fastq/*.gz                  ## 18. Demulti data loc. ' params.txt\n",
      "sed -i '/## 25./c\\0                           ## 25. Turn off ploidy filter ' params.txt"
     ],
     "language": "python",
     "metadata": {},
     "outputs": []
    },
    {
     "cell_type": "markdown",
     "metadata": {},
     "source": [
      "### Filtering the data  \n",
      "The data are already demultiplexed so we start here from step 2 of the analysis which is to filter the data by their quality scores, and to check for adapter sequences in the reads. Arguments 9, 20, 21 and 33 from the params file are relevant to this step. We will allow up to 4 Ns in our data (line 9 = 4), the Phred quality score offset is left at the default value of 33 (line 20), and we will remove data with adapter sequences detected (line 21 = 1), and we don't include any sequences that are trimmed of adapter sequences (line 33 = default = 0). "
     ]
    },
    {
     "cell_type": "code",
     "collapsed": false,
     "input": [
      "%%bash\n",
      "~/pyrad_v.2.15/pyRAD -p params.txt -s 2"
     ],
     "language": "python",
     "metadata": {},
     "outputs": []
    },
    {
     "cell_type": "markdown",
     "metadata": {},
     "source": [
      "### Step 3: Clustering  \n",
      "We set the clustering threshold at .88 meaning that our reads which are 90 bp long after removing the barcode will allow up to 10 base differences among sequences. This includes the maximum of four Ns we allowed in filtered reads, as well as differences among them owing to miscalled bases and true SNPs. "
     ]
    },
    {
     "cell_type": "code",
     "collapsed": false,
     "input": [
      "%%bash\n",
      "~/pyrad_v.2.15/pyRAD -p params.txt -s 3"
     ],
     "language": "python",
     "metadata": {},
     "outputs": []
    },
    {
     "cell_type": "markdown",
     "metadata": {},
     "source": [
      "### Step 4: Estimating heterozygosity & sequencing error  "
     ]
    },
    {
     "cell_type": "code",
     "collapsed": false,
     "input": [
      "%%bash\n",
      "~/pyrad_v.2.15/pyRAD -p params.txt -s 4"
     ],
     "language": "python",
     "metadata": {},
     "outputs": []
    },
    {
     "cell_type": "markdown",
     "metadata": {},
     "source": [
      "### Step 5: Calling consensus sequences  \n",
      "For this we first remove the results for samples that are known polyploids so that base calls will be made at the estimated level of heterozygosity for diploids. We will later use the ploidy-aware GATK2 software to call genotypes for polyploids separately, but for now we treat them as diploids. "
     ]
    },
    {
     "cell_type": "code",
     "collapsed": false,
     "input": [
      "%%bash\n",
      "## Using only data from known diploids according to Egolf (1956)\n",
      "## we find the following H & E which we substitute into the params file\n",
      "## rather than letting pyRAD take the value for all samples \n",
      "sed -i '/## 22./c\\0.0004691,0.0056817         ## 22. E,H ' params.txt\n",
      "\n",
      "~/pyrad_v.2.15/pyRAD -p params.txt -s 5"
     ],
     "language": "python",
     "metadata": {},
     "outputs": []
    },
    {
     "cell_type": "markdown",
     "metadata": {},
     "source": [
      "-----------------   \n",
      "\n",
      "## Assembling full and partial data sets  \n",
      "Analyses of these data will focus at four different levels:  \n",
      "+  A backbone phylogeny for all _Viburnum_  \n",
      "+  A focus on _V. cassinoides_\n",
      "+  A focus on _V. lantanoides_\n",
      "+  A focus on _V. dentatum_"
     ]
    },
    {
     "cell_type": "markdown",
     "metadata": {},
     "source": [
      "-----------------   \n",
      "\n",
      "## _V. lantanoides_ data set  \n",
      "\n",
      "We subselect _V. lantanoides_, its close relatives, and a few outgroup samples for a total of 11 individuals.\n",
      "\n",
      "+ lantanoides_D14_Beartown_1,\n",
      "+ lantanoides_D15_Beartown_2,\n",
      "+ lantanoides_D16_Mohawk_2,\n",
      "+ lantanoides_D_17_Mohawk_3,\n",
      "+ sympodiale_D18_KFC_1932,\n",
      "+ nervosum_C4_PWS_2298,\n",
      "+ nervosum_C2_PWS_2288_2289,\n",
      "+ furcatum_combined   \n",
      "  \n",
      "\n",
      "+ carlesii_D1_BP_001\n",
      "+ plicatum_C1_MJDJP_12\n",
      "+ foetidum_D24_KFC_1942"
     ]
    },
    {
     "cell_type": "code",
     "collapsed": false,
     "input": [
      "%%bash\n",
      "## create new working directory and required subdirectories for this project\n",
      "mkdir -p project_lantanoides/\n",
      "mkdir -p project_lantanoides/clust.88/\n",
      "mkdir -p project_lantanoides/stats/\n",
      "\n",
      "## copy consens files for this project to new directory\n",
      "cp clust.88/lantanoides_D14_Beartown_1*.consens.gz  project_lantanoides/clust.88/\n",
      "cp clust.88/lantanoides_D15_Beartown_2*.consens.gz  project_lantanoides/clust.88/\n",
      "cp clust.88/lantanoides_D16_Mohawk_2*.consens.gz    project_lantanoides/clust.88/\n",
      "cp clust.88/lantanoides_D_17_Mohawk_3*.consens.gz   project_lantanoides/clust.88/\n",
      "cp clust.88/sympodiale_D18_KFC_1932*.consens.gz     project_lantanoides/clust.88/\n",
      "cp clust.88/nervosum_C4_PWS_2298*.consens.gz        project_lantanoides/clust.88/\n",
      "cp clust.88/nervosum_C2_PWS_2288_2289*.consens.gz   project_lantanoides/clust.88/\n",
      "cp clust.88/furcatum_combined*.consens.gz           project_lantanoides/clust.88/\n",
      "cp clust.88/carlesii_D1_BP_001*.consens.gz          project_lantanoides/clust.88/\n",
      "cp clust.88/plicatum_C1_MJDJP_12*.consens.gz        project_lantanoides/clust.88/\n",
      "cp clust.88/foetidum_D24_KFC_1942*.consens.gz       project_lantanoides/clust.88/\n",
      "\n",
      "## set working directory in params file\n",
      "sed -i \"/## 1./c\\project_lantanoides        ## 1. working directory \" params.txt\n",
      "\n",
      "## enter the output options\n",
      "sed -i \"/## 30./c\\u,n,v,k                   ## 30. outformats \" params.txt"
     ],
     "language": "python",
     "metadata": {},
     "outputs": []
    },
    {
     "cell_type": "markdown",
     "metadata": {},
     "source": [
      "#### Across sample clustering"
     ]
    },
    {
     "cell_type": "code",
     "collapsed": false,
     "input": [
      "%%bash\n",
      "~/pyrad_v.2.15/pyRAD -p params.txt -s 6"
     ],
     "language": "python",
     "metadata": {},
     "outputs": []
    },
    {
     "cell_type": "markdown",
     "metadata": {},
     "source": [
      "#### Create data sets at mincov 4 and 8"
     ]
    },
    {
     "cell_type": "code",
     "collapsed": false,
     "input": [
      "%%bash\n",
      "## minCov 4\n",
      "sed -i \"/## 12./c\\4                         ## 12. minCov \" params.txt\n",
      "sed -i \"/## 14./c\\lantanoides_c88d6m4p3     ## 14. prefix \" params.txt\n",
      "~/pyrad_v.2.15/pyRAD -p params.txt -s 7\n",
      "\n",
      "## minCov 8\n",
      "sed -i \"/## 12./c\\8                         ## 12. minCov \" params.txt\n",
      "sed -i \"/## 14./c\\lantanoides_c88d6m8p3     ## 14. prefix \" params.txt\n",
      "~/pyrad_v.2.15/pyRAD -p params.txt -s 7"
     ],
     "language": "python",
     "metadata": {},
     "outputs": []
    },
    {
     "cell_type": "markdown",
     "metadata": {},
     "source": [
      "---------------   \n",
      "\n",
      "## _V. cassinoides_ data set  \n",
      "\n",
      "We will subselect _V. cassinoides_, its close relatives, and a few outgroup samples for a total of 19 individuals."
     ]
    },
    {
     "cell_type": "markdown",
     "metadata": {},
     "source": [
      "+ cassinoides_ELS2,\n",
      "+ cassinoides_ELS29,\n",
      "+ cassinoides_ELS3,\n",
      "+ cassinoides_ELS50,\n",
      "+ cassinoides_ELS77,\n",
      "+ cassinoides_ELS79,\n",
      "+ cassinoides_LS54,\n",
      "+ cassinoides_YU08\n",
      "+ lentago_ELS73\n",
      "+ lentago_ELS85\n",
      "+ prunifolium_ELS57\n",
      "+ prunifolium_ELS46\n",
      "+ prunifolium_AA22586A\n",
      "+ rufidulum_AA_21418A\n",
      "+ rufidulum_ELS17\n",
      "+ rufidulum_ELS1\n",
      "+ rufidulum_ELS25  \n",
      "  \n",
      "  \n",
      "+ punctatum_D19_PWS_2097\n",
      "+ carlesii_D1_BP_001\n",
      "+ plicatum_C1_MJDJP_12"
     ]
    },
    {
     "cell_type": "code",
     "collapsed": false,
     "input": [
      "%%bash\n",
      "## create new working directory and required subdirectories for this project\n",
      "mkdir -p project_cassinoides/\n",
      "mkdir -p project_cassinoides/clust.88/\n",
      "mkdir -p project_cassinoides/stats/\n",
      "\n",
      "## copy consens files for this project to new directory\n",
      "cp clust.88/cassinoides_ELS2.consens.gz       project_cassinoides/clust.88/\n",
      "cp clust.88/cassinoides_ELS29.consens.gz      project_cassinoides/clust.88/\n",
      "cp clust.88/cassinoides_ELS3.consens.gz       project_cassinoides/clust.88/\n",
      "cp clust.88/cassinoides_ELS50.consens.gz      project_cassinoides/clust.88/\n",
      "cp clust.88/cassinoides_ELS77.consens.gz      project_cassinoides/clust.88/\n",
      "cp clust.88/cassinoides_ELS79.consens.gz      project_cassinoides/clust.88/\n",
      "cp clust.88/cassinoides_LS54.consens.gz       project_cassinoides/clust.88/\n",
      "cp clust.88/cassinoides_YU08.consens.gz       project_cassinoides/clust.88/\n",
      "cp clust.88/lentago_ELS73.consens.gz          project_cassinoides/clust.88/\n",
      "cp clust.88/lentago_ELS85.consens.gz          project_cassinoides/clust.88/\n",
      "cp clust.88/prunifolium_ELS57.consens.gz      project_cassinoides/clust.88/\n",
      "cp clust.88/prunifolium_ELS46.consens.gz      project_cassinoides/clust.88/\n",
      "cp clust.88/prunifolium_AA_22586A.consens.gz  project_cassinoides/clust.88/\n",
      "cp clust.88/rufidulum_AA_21418A.consens.gz    project_cassinoides/clust.88/\n",
      "cp clust.88/rufidulum_ELS17.consens.gz        project_cassinoides/clust.88/\n",
      "cp clust.88/rufidulum_ELS1.consens.gz         project_cassinoides/clust.88/\n",
      "cp clust.88/rufidulum_ELS25.consens.gz        project_cassinoides/clust.88/\n",
      "cp clust.88/punctatum_D19_PWS_2097.consens.gz project_cassinoides/clust.88/\n",
      "cp clust.88/carlesii_D1_BP_001.consens.gz     project_cassinoides/clust.88/\n",
      "cp clust.88/plicatum_C1_MJDJP_12.consens.gz   project_cassinoides/clust.88/\n",
      "\n",
      "## set working directory in params file\n",
      "sed -i \"/## 1. /c\\project_cassinoides       ## 1. working directory \" params.txt\n",
      "\n",
      "## enter the output options\n",
      "sed -i \"/## 30./c\\u,n,v,k                   ## 30. outformats \" params.txt"
     ],
     "language": "python",
     "metadata": {},
     "outputs": []
    },
    {
     "cell_type": "markdown",
     "metadata": {},
     "source": [
      "#### Across sample clustering"
     ]
    },
    {
     "cell_type": "code",
     "collapsed": false,
     "input": [
      "%%bash\n",
      "~/pyrad_v.2.15/pyRAD -p params.txt -s 6"
     ],
     "language": "python",
     "metadata": {},
     "outputs": []
    },
    {
     "cell_type": "markdown",
     "metadata": {},
     "source": [
      "#### Create data sets at minCov 4 and 10"
     ]
    },
    {
     "cell_type": "code",
     "collapsed": false,
     "input": [
      "%%bash\n",
      "## minCov 4\n",
      "sed -i \"/## 12./c\\4                         ## 12. minCov \" params.txt\n",
      "sed -i \"/## 14./c\\cassinoides_c88d6m4p3     ## 14. prefix \" params.txt\n",
      "~/pyrad_v.2.15/pyRAD -p params.txt -s 7\n",
      "\n",
      "## minCov 8\n",
      "sed -i \"/## 12./c\\8                         ## 12. minCov \" params.txt\n",
      "sed -i \"/## 14./c\\cassinoides_c88d6m10p3    ## 14. prefix \" params.txt\n",
      "~/pyrad_v.2.15/pyRAD -p params.txt -s 7"
     ],
     "language": "python",
     "metadata": {},
     "outputs": []
    },
    {
     "cell_type": "markdown",
     "metadata": {},
     "source": [
      "---------------------   \n",
      "\n",
      "## V. _dentatum_ data set  \n",
      "We subselect _V. dentatum_, its close relatives, and a few outgroup samples for a total of 14 individuals.  \n",
      "\n",
      "+ dentatum_AA_5070_1A\n",
      "+ dentatum_ELS15\n",
      "+ dentatum_ELS27\n",
      "+ dentatum_ELS4\n",
      "+ dentatum_ELS52\n",
      "+ dentatum_ELS72\n",
      "+ dentatum_ELS82\n",
      "+ recognitum_AA_1471_83B  \n",
      "  \n",
      "  \n",
      "+ acutifolium_DRY3_MEX_006\n",
      "+ sulcatum_D9_MEX_003\n",
      "+ jamesonii_D12_PWS_1636\n",
      "+ triphyllum_D13_PWS_1783\n",
      "+ davidii_D32_WC_269\n",
      "+ wrightii_D31_MJDJP_1"
     ]
    },
    {
     "cell_type": "code",
     "collapsed": false,
     "input": [
      "%%bash\n",
      "## create new working directory and required subdirectories for this project\n",
      "mkdir -p project_dentatum/\n",
      "mkdir -p project_dentatum/clust.88/\n",
      "mkdir -p project_dentatum/stats/\n",
      "\n",
      "## copy consens files for this project to new directory\n",
      "\n",
      "cp clust.88/dentatum_AA_5070_1A.consens.gz        project_dentatum/clust.88/\n",
      "cp clust.88/dentatum_ELS15.consens.gz             project_dentatum/clust.88/\n",
      "cp clust.88/dentatum_ELS27.consens.gz             project_dentatum/clust.88/ \n",
      "cp clust.88/dentatum_ELS4.consens.gz              project_dentatum/clust.88/\n",
      "cp clust.88/dentatum_ELS52.consens.gz             project_dentatum/clust.88/\n",
      "cp clust.88/dentatum_ELS72.consens.gz             project_dentatum/clust.88/\n",
      "cp clust.88/dentatum_ELS82.consens.gz             project_dentatum/clust.88/\n",
      "cp clust.88/recognitum_AA_1471_83B.consens.gz     project_dentatum/clust.88/\n",
      "cp clust.88/acutifolium_DRY3_MEX_006.consens.gz   project_dentatum/clust.88/\n",
      "cp clust.88/sulcatum_D9_MEX_003.consens.gz        project_dentatum/clust.88/\n",
      "cp clust.88/jamesonii_D12_PWS_1636.consens.gz     project_dentatum/clust.88/\n",
      "cp clust.88/triphyllum_D13_PWS_1783.consens.gz    project_dentatum/clust.88/\n",
      "cp clust.88/davidii_D32_WC_269.consens.gz         project_dentatum/clust.88/\n",
      "cp clust.88/wrightii_D31_MJDJP_1.consens.gz       project_dentatum/clust.88/\n",
      "\n",
      "## set working directory in params file\n",
      "sed -i \"/## 1. /c\\project_dentatum          ## 1. working directory \" params.txt\n",
      "\n",
      "## enter the output options\n",
      "sed -i \"/## 30./c\\u,n,v,k                   ## 30. outformats \" params.txt"
     ],
     "language": "python",
     "metadata": {},
     "outputs": []
    },
    {
     "cell_type": "markdown",
     "metadata": {},
     "source": [
      "#### Across sample clustering"
     ]
    },
    {
     "cell_type": "code",
     "collapsed": false,
     "input": [
      "%%bash\n",
      "~/pyrad_v.2.15/pyRAD -p params.txt -s 6"
     ],
     "language": "python",
     "metadata": {},
     "outputs": []
    },
    {
     "cell_type": "markdown",
     "metadata": {},
     "source": [
      "#### Create data sets at minCov 4 and 8"
     ]
    },
    {
     "cell_type": "code",
     "collapsed": false,
     "input": [
      "%%bash\n",
      "## minCov 4\n",
      "sed -i \"/## 12./c\\4                         ## 12. minCov \" params.txt\n",
      "sed -i \"/## 14./c\\dentatum_c88d6m4p3        ## 14. prefix \" params.txt\n",
      "~/pyrad_v.2.15/pyRAD -p params.txt -s 7\n",
      "\n",
      "## minCov 8\n",
      "sed -i \"/## 12./c\\8                         ## 12. minCov \" params.txt\n",
      "sed -i \"/## 14./c\\dentatum_c88d6m8p3        ## 14. prefix \" params.txt\n",
      "~/pyrad_v.2.15/pyRAD -p params.txt -s 7"
     ],
     "language": "python",
     "metadata": {},
     "outputs": []
    },
    {
     "cell_type": "markdown",
     "metadata": {},
     "source": [
      "-------------   \n",
      "\n",
      "## Full _Viburnum_ data set  \n",
      "This data set contains the full 95 samples."
     ]
    },
    {
     "cell_type": "code",
     "collapsed": false,
     "input": [
      "%%bash\n",
      "## create new working directory and required subdirectories for this project\n",
      "mkdir -p project_full/\n",
      "mkdir -p project_full/clust.88/\n",
      "mkdir -p project_full/stats/\n",
      "\n",
      "## copy consens files for this project to new directory\n",
      "cp clust.88/*.consens.gz       project_full/clust.88/\n",
      "\n",
      "## set working directory in params file\n",
      "sed -i \"/## 1. /c\\project_full            ## 1. working directory \" params.txt\n",
      "\n",
      "## enter the output options\n",
      "sed -i \"/## 30./c\\u,n                     ## 30. outformats \" params.txt"
     ],
     "language": "python",
     "metadata": {},
     "outputs": [],
     "prompt_number": 47
    },
    {
     "cell_type": "markdown",
     "metadata": {},
     "source": [
      "#### Across sample clustering"
     ]
    },
    {
     "cell_type": "code",
     "collapsed": false,
     "input": [
      "%%bash\n",
      "\n",
      "## Assign taxa to clades for much faster 'hierarchical clustering'\n",
      "echo \"isolated_branch1 1 clemensiae*\" >> params.txt\n",
      "echo \"isolated_branch2 1 amplificatum*\" >> params.txt\n",
      "echo \"valvotinus.Lent 2 cassinoides*,lentago*,rufidulum*,prunifolium*,erprun*\" >> params.txt\n",
      "echo \"valvotinus.PEu 2 puntatum*,macrocephualum*,carlesii*,bitchuense*,rhytidophyllum,veitchii,lantan_combined \" >> params.txt\n",
      "echo \"pseudotinus 2 nervosum*,sympodiale*,lantanoides*,furcatum* \" >> params.txt\n",
      "echo \"crenotinus 2 grandiflorum*,foetens*,sieboldii*,odoratissimum*,farreri*,suspensum*,henryi*,erubescens*,hanceanum*,plicatum*,lutescens*, \" >> params.txt\n",
      "echo \"urceolata 1 taiwanianum*,urceolatum*\" >> params.txt\n",
      "echo \"tinus 2 tinus*,propi*,cinnamomifolium*,davidii* \" >>params.txt\n",
      "echo \"succotinus 2 muhalla*,foetidum*,wrightii*,japonicum*,integrifolium*,parvifolium*,tashiori*,erosum*,formosanum*,setigerum*,luzonicum*,betulifolium*,anamensis*,sempervirens* \" >> params.txt\n",
      "echo \"lobata 1 acerfolium*,orientale*\" >> params.txt\n",
      "echo \"coriacea 1 cylindricum*,coriaceum*\" >> params.txt\n",
      "echo \"sabucina 1 beccarii*,vernicosum*,glaberrimum*,sambucin*\" >> params.txt\n",
      "echo \"opulus 1 opulus*,sargentii*\" >> params.txt\n",
      "echo \"dentata 2 dentatum*,recognitum*\" >> params.txt\n",
      "echo \"oreinotinus 2 sulc*,acuti*,james*,triphyllum*\" >> params.txt"
     ],
     "language": "python",
     "metadata": {},
     "outputs": []
    },
    {
     "cell_type": "code",
     "collapsed": false,
     "input": [
      "%%bash\n",
      "## cluster\n",
      "~/pyrad_v.2.15/pyRAD -p params.txt -s 6"
     ],
     "language": "python",
     "metadata": {},
     "outputs": []
    },
    {
     "cell_type": "markdown",
     "metadata": {},
     "source": [
      "#### Create data sets at minCov 4 and 10"
     ]
    },
    {
     "cell_type": "code",
     "collapsed": false,
     "input": [
      "%%bash\n",
      "## minCov 4\n",
      "sed -i \"/## 12./c\\4                         ## 12. minCov \" params.txt\n",
      "sed -i \"/## 14./c\\viburnum_c88d6m4p3        ## 14. prefix \" params.txt\n",
      "~/pyrad_v.2.15/pyRAD -p params.txt -s 7\n",
      "\n",
      "## minCov 10\n",
      "sed -i \"/## 12./c\\10                        ## 12. minCov \" params.txt\n",
      "sed -i \"/## 14./c\\viburnum_c88d6m10p3        ## 14. prefix \" params.txt\n",
      "~/pyrad_v.2.15/pyRAD -p params.txt -s 7"
     ],
     "language": "python",
     "metadata": {},
     "outputs": []
    },
    {
     "cell_type": "markdown",
     "metadata": {},
     "source": [
      "--------------------------   \n",
      "\n",
      "## Quick and dirty analyses"
     ]
    },
    {
     "cell_type": "code",
     "collapsed": false,
     "input": [
      "%%bash\n",
      "mkdir -p project_lantanoides/analyses_raxml/ \n",
      "mkdir -p project_cassinoides/analyses_raxml/ \n",
      "mkdir -p project_dentatum/analyses_raxml/ \n",
      "mkdir -p project_full/analyses_raxml/ "
     ],
     "language": "python",
     "metadata": {},
     "outputs": [],
     "prompt_number": 32
    },
    {
     "cell_type": "code",
     "collapsed": false,
     "input": [
      "raxcmd = \"raxmlHPC-PTHREADS-AVX -f a\"+ \\\n",
      "                               \" -p 12345\"+ \\\n",
      "                               \" -x 12345\"+ \\\n",
      "                               \" -N 100 \"+ \\\n",
      "                               \" -m GTRGAMMA\"+ \\\n",
      "                               \" -T 15\""
     ],
     "language": "python",
     "metadata": {},
     "outputs": [],
     "prompt_number": 20
    },
    {
     "cell_type": "markdown",
     "metadata": {},
     "source": [
      "#### Estimate lantanoides trees"
     ]
    },
    {
     "cell_type": "code",
     "collapsed": false,
     "input": [
      "S = \" -s project_lantanoides/outfiles/lantanoides_c88d6m4p3.phy \"\n",
      "N = \" -n lantanoides_c88d6m4p3 \"\n",
      "W = \" -w /home/deren/Documents/Vibs_RAD/project_lantanoides/analyses_raxml/ \"\n",
      "O = \" -o plicatum_C1_MJDJP_12 \"\n",
      "stderr = ! $raxcmd $S $N $W $O"
     ],
     "language": "python",
     "metadata": {},
     "outputs": [],
     "prompt_number": 36
    },
    {
     "cell_type": "code",
     "collapsed": false,
     "input": [
      "S = \" -s project_lantanoides/outfiles/lantanoides_c88d6m8p3.phy \"\n",
      "N = \" -n lantanoides_c88d6m8p3 \"\n",
      "W = \" -w /home/deren/Documents/Vibs_RAD/project_lantanoides/analyses_raxml/ \"\n",
      "O = \" -o plicatum_C1_MJDJP_12 \"\n",
      "stderr = ! $raxcmd $S $N $W $O"
     ],
     "language": "python",
     "metadata": {},
     "outputs": [],
     "prompt_number": 35
    },
    {
     "cell_type": "markdown",
     "metadata": {},
     "source": [
      "#### Estimate cassinoides trees"
     ]
    },
    {
     "cell_type": "code",
     "collapsed": false,
     "input": [
      "S = \" -s project_cassinoides/outfiles/cassinoides_c88d6m4p3.phy \"\n",
      "N = \" -n cassinoides_c88d6m4p3 \"\n",
      "W = \" -w /home/deren/Documents/Vibs_RAD/project_cassinoides/analyses_raxml/ \"\n",
      "O = \" -o plicatum_C1_MJDJP_12 \"\n",
      "stderr = ! $raxcmd $S $N $W $O"
     ],
     "language": "python",
     "metadata": {},
     "outputs": [],
     "prompt_number": 31
    },
    {
     "cell_type": "code",
     "collapsed": false,
     "input": [
      "S = \" -s project_cassinoides/outfiles/cassinoides_c88d6m10p3.phy \"\n",
      "N = \" -n cassinoides_c88d6m10p3 \"\n",
      "W = \" -w /home/deren/Documents/Vibs_RAD/project_cassinoides/analyses_raxml/ \"\n",
      "O = \" -o plicatum_C1_MJDJP_12 \"\n",
      "stderr = ! $raxcmd $S $N $W $O"
     ],
     "language": "python",
     "metadata": {},
     "outputs": [],
     "prompt_number": 37
    },
    {
     "cell_type": "markdown",
     "metadata": {},
     "source": [
      "#### Estimate dentatum trees"
     ]
    },
    {
     "cell_type": "code",
     "collapsed": false,
     "input": [
      "S = \" -s project_dentatum/outfiles/dentatum_c88d6m8p3.phy \"\n",
      "N = \" -n dentatum_c88d6m8p3 \"\n",
      "W = \" -w /home/deren/Documents/Vibs_RAD/project_dentatum/analyses_raxml/ \"\n",
      "O = \" -o davidii_D32_WC_269 \"\n",
      "stderr = ! $raxcmd $S $N $W $O"
     ],
     "language": "python",
     "metadata": {},
     "outputs": [],
     "prompt_number": 45
    },
    {
     "cell_type": "code",
     "collapsed": false,
     "input": [
      "S = \" -s project_dentatum/outfiles/dentatum_c88d6m4p3.phy \"\n",
      "N = \" -n dentatum_c88d6m4p3 \"\n",
      "W = \" -w /home/deren/Documents/Vibs_RAD/project_dentatum/analyses_raxml/ \"\n",
      "O = \" -o davidii_D32_WC_269 \"\n",
      "stderr = ! $raxcmd $S $N $W $O"
     ],
     "language": "python",
     "metadata": {},
     "outputs": [],
     "prompt_number": 46
    },
    {
     "cell_type": "markdown",
     "metadata": {},
     "source": [
      "## Visualize Trees"
     ]
    },
    {
     "cell_type": "code",
     "collapsed": false,
     "input": [
      "## load libraries for running R\n",
      "%load_ext rmagic\n",
      "## for embedding figures\n",
      "import matplotlib.pyplot as plt\n",
      "%matplotlib inline"
     ],
     "language": "python",
     "metadata": {},
     "outputs": []
    },
    {
     "cell_type": "code",
     "collapsed": false,
     "input": [
      "%%R\n",
      "library(ape)"
     ],
     "language": "python",
     "metadata": {},
     "outputs": [],
     "prompt_number": 2
    },
    {
     "cell_type": "code",
     "collapsed": false,
     "input": [
      "%%R\n",
      "## 65,115 loci\n",
      "## 5.6M bp alignment\n",
      "## 44% missing data\n",
      "lant_m4 <- read.tree(\"project_lantanoides/analyses_raxml/RAxML_bipartitions.lantanoides_c88d6m4p3\")\n",
      "tre <- ladderize(lant_m4)\n",
      "plot(tre, edge.width=2)\n",
      "nodelabels(tre$node.label)"
     ],
     "language": "python",
     "metadata": {},
     "outputs": [
      {
       "metadata": {},
       "output_type": "display_data",
       "png": "[encoded data removed]"
      }
     ],
     "prompt_number": 38
    },
    {
     "cell_type": "code",
     "collapsed": false,
     "input": [
      "%%R\n",
      "## 15,245 loci\n",
      "## 1.3M bp alignment\n",
      "## 22% missing data\n",
      "lant_m8 <- read.tree(\"project_lantanoides/analyses_raxml/RAxML_bipartitions.lantanoides_c88d6m8p3\")\n",
      "tre <- ladderize(lant_m8)\n",
      "plot(tre, edge.width=2)\n",
      "nodelabels(tre$node.label)"
     ],
     "language": "python",
     "metadata": {},
     "outputs": [
      {
       "metadata": {},
       "output_type": "display_data",
       "png": "[encoded data removed]"
      }
     ],
     "prompt_number": 40
    },
    {
     "cell_type": "code",
     "collapsed": false,
     "input": [
      "%%R \n",
      "## 76,044 loci\n",
      "## 6.6M bp alignment\n",
      "## 62% missing data\n",
      "cass_m4 <- read.tree(\"project_cassinoides/analyses_raxml/RAxML_bipartitions.cassinoides_c88d6m4p3\")\n",
      "tre <- ladderize(cass_m4)\n",
      "plot(tre, edge.width=2)\n",
      "nodelabels(tre$node.label, bg='grey')"
     ],
     "language": "python",
     "metadata": {},
     "outputs": [
      {
       "metadata": {},
       "output_type": "display_data",
       "png": "[encoded data removed]"
      }
     ],
     "prompt_number": 41
    },
    {
     "cell_type": "code",
     "collapsed": false,
     "input": [
      "%%R \n",
      "## 16,056 loci\n",
      "## 1.4M bp alignment\n",
      "## 40% missing data\n",
      "cass_m10 <- read.tree(\"project_cassinoides/analyses_raxml/RAxML_bipartitions.cassinoides_c88d6m10p3\")\n",
      "tre <- ladderize(cass_m10)\n",
      "plot(tre, edge.width=2)\n",
      "nodelabels(tre$node.label, bg='grey')"
     ],
     "language": "python",
     "metadata": {},
     "outputs": [
      {
       "metadata": {},
       "output_type": "display_data",
       "png": "[encoded data removed]"
      }
     ],
     "prompt_number": 42
    },
    {
     "cell_type": "code",
     "collapsed": false,
     "input": [
      "%%R \n",
      "## 65,628 loci\n",
      "## 5.7M bp alignment\n",
      "## 55% missing data\n",
      "dent_m4 <- read.tree(\"project_dentatum/analyses_raxml/RAxML_bipartitions.dentatum_c88d6m4p3\")\n",
      "tre <- ladderize(dent_m4)\n",
      "plot(tre, edge.width=2)\n",
      "nodelabels(tre$node.label, bg='grey')"
     ],
     "language": "python",
     "metadata": {},
     "outputs": [
      {
       "metadata": {},
       "output_type": "display_data",
       "png": "[encoded data removed]"
      }
     ],
     "prompt_number": 48
    },
    {
     "cell_type": "code",
     "collapsed": false,
     "input": [
      "%%R \n",
      "## 18,317 loci\n",
      "## 1.6M bp alignment\n",
      "## 35% missing data\n",
      "dent_m8 <- read.tree(\"project_dentatum/analyses_raxml/RAxML_bipartitions.dentatum_c88d6m8p3\")\n",
      "tre <- ladderize(dent_m8)\n",
      "plot(tre, edge.width=2)\n",
      "nodelabels(tre$node.label, bg='grey')"
     ],
     "language": "python",
     "metadata": {},
     "outputs": [
      {
       "metadata": {},
       "output_type": "display_data",
       "png": "[encoded data removed]"
      }
     ],
     "prompt_number": 49
    },
    {
     "cell_type": "code",
     "collapsed": false,
     "input": [],
     "language": "python",
     "metadata": {},
     "outputs": []
    },
    {
     "cell_type": "code",
     "collapsed": false,
     "input": [
      "%%bash\n",
      "mkdir -p project_lantanoides/dtests/"
     ],
     "language": "python",
     "metadata": {},
     "outputs": [],
     "prompt_number": 43
    },
    {
     "cell_type": "code",
     "collapsed": false,
     "input": [],
     "language": "python",
     "metadata": {},
     "outputs": []
    }
   ],
   "metadata": {}
  }
 ]
}