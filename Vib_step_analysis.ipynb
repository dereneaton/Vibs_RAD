{
 "metadata": {
  "name": "",
  "signature": "sha256:5bf035b55317305479c827f8dbbd867dd0ff0773276a256fa9718087ce47e8ad"
 },
 "nbformat": 3,
 "nbformat_minor": 0,
 "worksheets": [
  {
   "cells": [
    {
     "cell_type": "code",
     "collapsed": false,
     "input": [
      "Vib"
     ],
     "language": "python",
     "metadata": {},
     "outputs": []
    }
   ],
   "metadata": {}
  }
 ]
}