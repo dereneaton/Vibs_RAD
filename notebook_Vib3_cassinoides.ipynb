{
 "metadata": {
  "name": "",
  "signature": "sha256:f1d7f2e0acda388496c0ebd69f4abe261c537aa5ef5706cebc7b099c5ad6165b"
 },
 "nbformat": 3,
 "nbformat_minor": 0,
 "worksheets": [
  {
   "cells": [
    {
     "cell_type": "markdown",
     "metadata": {},
     "source": [
      "# Viburnum RADseq project\n",
      "### Notebook 3: Analysis of _V. cassinoides_ & relatives\n",
      "\n",
      "-----------------------   \n"
     ]
    },
    {
     "cell_type": "code",
     "collapsed": false,
     "input": [
      "import matplotlib.pyplot as plt\n",
      "%matplotlib inline"
     ],
     "language": "python",
     "metadata": {},
     "outputs": [],
     "prompt_number": 2
    },
    {
     "cell_type": "markdown",
     "metadata": {},
     "source": [
      "### The data set\n",
      "This analysis will use the data sets produced in [Notebook2](link). We will analyse these data using  _Structure_ and PCA plots. The phylogeny inferred for the included samples is shown below. \n"
     ]
    },
    {
     "cell_type": "code",
     "collapsed": false,
     "input": [
      "## To run this in the IPython notebook it\n",
      "## requires that rpy2 is installed\n",
      "%load_ext rmagic "
     ],
     "language": "python",
     "metadata": {},
     "outputs": [],
     "prompt_number": 3
    },
    {
     "cell_type": "code",
     "collapsed": false,
     "input": [
      "%%R\n",
      "library(ape)"
     ],
     "language": "python",
     "metadata": {},
     "outputs": [],
     "prompt_number": 4
    },
    {
     "cell_type": "code",
     "collapsed": false,
     "input": [
      "%%R \n",
      "## 16,056 loci\n",
      "## 1.4M bp alignment\n",
      "## 40% missing data\n",
      "### THE TREE FROM OUR FIRST RUN AT THINGS\n",
      "cass_m10 <- read.tree(\"project_cassinoides/old_raxml/RAxML_bipartitions.cassinoides_c88d6m10p3\")\n",
      "tre <- ladderize(cass_m10)\n",
      "plot(tre, edge.width=2)\n",
      "nodelabels(tre$node.label, bg='grey')"
     ],
     "language": "python",
     "metadata": {},
     "outputs": [
      {
       "metadata": {},
       "output_type": "display_data",
       "png": "[encoded data removed]"
      }
     ],
     "prompt_number": 5
    },
    {
     "cell_type": "code",
     "collapsed": false,
     "input": [
      "%%R \n",
      "### THE NEW TREE\n",
      "cass_m10 <- read.tree(\"project_cassinoides/analysis_raxml/RAxML_bipartitions.cassinoides_c88d6m10p3\")\n",
      "tre <- ladderize(cass_m10)\n",
      "plot(tre, edge.width=2)\n",
      "nodelabels(tre$node.label, bg='grey')"
     ],
     "language": "python",
     "metadata": {},
     "outputs": [
      {
       "metadata": {},
       "output_type": "display_data",
       "png": "[encoded data removed]"
      }
     ],
     "prompt_number": 6
    },
    {
     "cell_type": "markdown",
     "metadata": {},
     "source": [
      "The analyses below will analyze this data set with the outgroups excluded."
     ]
    },
    {
     "cell_type": "code",
     "collapsed": false,
     "input": [
      "%%R\n",
      "## to install SNPRelate uncomment the three lines below\n",
      "#library(\"devtools\")\n",
      "#install.packages(\"gdsfmt\", repos=\"http://bioconductor.org/packages/release/extra\")\n",
      "#install.packages(\"SNPRelate\", repos=\"http://R-Forge.R-project.org\")"
     ],
     "language": "python",
     "metadata": {},
     "outputs": []
    },
    {
     "cell_type": "code",
     "collapsed": false,
     "input": [
      "%%R\n",
      "## load the libraries for doing a PCA analysis on SNPs\n",
      "library(gdsfmt)\n",
      "library(SNPRelate)"
     ],
     "language": "python",
     "metadata": {},
     "outputs": [
      {
       "metadata": {},
       "output_type": "display_data",
       "text": [
        "SNPRelate: 0.9.19\n",
        "Supported by Streaming SIMD Extensions 2 (SSE2).\n"
       ]
      }
     ],
     "prompt_number": 7
    },
    {
     "cell_type": "code",
     "collapsed": false,
     "input": [
      "%%R\n",
      "## read in VCF file created in pyRAD v.2.16 with the 'v' output option\n",
      "vcffile <- \"~/Documents/Vibs_RAD/project_cassinoides/outfiles/cassinoides_c88d6m10p3noutg.vcf\"\n",
      "\n",
      "## Reformat and write to GDS format \n",
      "snpgdsVCF2GDS(vcffile, \"test.gds\", method=\"biallelic.only\", verbose=FALSE)"
     ],
     "language": "python",
     "metadata": {},
     "outputs": [
      {
       "metadata": {},
       "output_type": "display_data",
       "text": [
        "[1] 1\n",
        "[1] 984\n",
        "[1] 1974\n",
        "[1] 2962\n",
        "[1] 3940\n",
        "[1] 4930\n",
        "[1] 5908\n",
        "[1] 6900\n",
        "[1] 7902\n",
        "[1] 8882\n",
        "[1] 9865\n",
        "[1] 10844\n",
        "[1] 11825\n",
        "[1] 12818\n",
        "[1] 13808\n",
        "[1] 14798\n",
        "[1] 15785\n",
        "[1] 16763\n",
        "[1] 17742\n",
        "[1] 18735\n",
        "[1] 19722\n",
        "[1] 20711\n",
        "[1] 21699\n",
        "[1] 22690\n",
        "[1] 23676\n",
        "[1] 24652\n",
        "[1] 25627\n",
        "[1] 26621\n",
        "[1] 27604\n",
        "[1] 28595\n",
        "[1] 29574\n",
        "[1] 30559\n",
        "[1] 31552\n",
        "[1] 32531\n",
        "[1] 33525\n",
        "[1] 34509\n",
        "[1] 35505\n",
        "[1] 36484\n",
        "[1] 37479\n",
        "[1] 38465\n",
        "[1] 39453\n",
        "[1] 40424\n",
        "[1] 41402\n",
        "[1] 42388\n",
        "[1] 43375\n",
        "[1] 44368\n",
        "[1] 45348\n",
        "[1] 46327\n",
        "[1] 47317\n",
        "[1] 48299\n",
        "[1] 49284\n",
        "[1] 50267\n",
        "[1] 51250\n",
        "[1] 52239\n",
        "[1] 53208\n",
        "[1] 54200\n",
        "[1] 55176\n",
        "[1] 56161\n",
        "[1] 57161\n",
        "[1] 58141\n",
        "[1] 59124\n",
        "[1] 60110\n",
        "[1] 61102\n",
        "[1] 62096\n",
        "[1] 63078\n",
        "[1] 64052\n",
        "[1] 65035\n",
        "[1] 66017\n",
        "[1] 67008\n",
        "[1] 67992\n",
        "[1] 68986\n",
        "[1] 69974\n",
        "[1] 70955\n",
        "[1] 71936\n",
        "[1] 72917\n"
       ]
      }
     ],
     "prompt_number": 8
    },
    {
     "cell_type": "code",
     "collapsed": false,
     "input": [
      "%%R\n",
      "## Read in the GDS file\n",
      "genofile <- openfn.gds(\"test.gds\")\n",
      "#closefn.gds(genofile)"
     ],
     "language": "python",
     "metadata": {},
     "outputs": [],
     "prompt_number": 9
    },
    {
     "cell_type": "code",
     "collapsed": false,
     "input": [
      "%%R\n",
      "## This step subselects only one SNP from each \"chromosome\",\n",
      "## which in this case are different RADseq loci\n",
      "## so that we can assume SNPs are relatively unlinked\n",
      "snpset <- snpgdsLDpruning(genofile, ld.threshold=0.001, \n",
      "                          autosome.only=FALSE, verbose=FALSE)"
     ],
     "language": "python",
     "metadata": {},
     "outputs": [],
     "prompt_number": 10
    },
    {
     "cell_type": "code",
     "collapsed": false,
     "input": [
      "%%R\n",
      "## perform PCA on subset of unlinked SNPs\n",
      "pca <- snpgdsPCA(genofile, snp.id=unlist(snpset), autosome.only=FALSE)"
     ],
     "language": "python",
     "metadata": {},
     "outputs": [
      {
       "metadata": {},
       "output_type": "display_data",
       "text": [
        "Principal Component Analysis (PCA) on SNP genotypes:\n",
        "Removing 0 SNPs (monomorphic, < MAF, or > missing rate)\n",
        "Working space: 17 samples, 10591 SNPs\n",
        "\tUsing 1 CPU core.\n",
        "PCA:\tthe sum of all working genotypes (0, 1 and 2) = 190201\n",
        "PCA:\tWed Oct  1 13:50:27 2014\t0%\n",
        "PCA:\tWed Oct  1 13:50:27 2014\t100%\n",
        "PCA:\tWed Oct  1 13:50:27 2014\tBegin (eigenvalues and eigenvectors)\n",
        "PCA:\tWed Oct  1 13:50:27 2014\tEnd (eigenvalues and eigenvectors)\n"
       ]
      }
     ],
     "prompt_number": 11
    },
    {
     "cell_type": "code",
     "collapsed": false,
     "input": [
      "%%R\n",
      "## how much variance is explained \n",
      "pc.percent <- 100 * pca$eigenval/sum(pca$eigenval)\n",
      "print(data.frame(round(pc.percent,3)))"
     ],
     "language": "python",
     "metadata": {},
     "outputs": [
      {
       "metadata": {},
       "output_type": "display_data",
       "text": [
        "   round.pc.percent..3.\n",
        "1                21.600\n",
        "2                20.110\n",
        "3                 8.142\n",
        "4                 7.458\n",
        "5                 5.549\n",
        "6                 4.469\n",
        "7                 4.197\n",
        "8                 3.731\n",
        "9                 3.672\n",
        "10                3.562\n",
        "11                3.231\n",
        "12                3.200\n",
        "13                3.016\n",
        "14                2.952\n",
        "15                2.648\n",
        "16                2.464\n",
        "17                0.000\n"
       ]
      }
     ],
     "prompt_number": 12
    },
    {
     "cell_type": "code",
     "collapsed": false,
     "input": [
      "## edit names in Python b/c it's easy\n",
      "## export names to python namespace\n",
      "%R names <- pca$sample.id\n",
      "%R -o names\n",
      "## edit names in python\n",
      "IDs = [i.split(\"_\")[1] for i in names]\n",
      "taxa = [i.split(\"_\")[0].replace(\">\",\"\") for i in names]\n",
      "## import names back into R namespace\n",
      "%R -i IDs\n",
      "%R -i taxa"
     ],
     "language": "python",
     "metadata": {},
     "outputs": [],
     "prompt_number": 13
    },
    {
     "cell_type": "code",
     "collapsed": false,
     "input": [
      "%%R\n",
      "## make a data frame object\n",
      "tab <- data.frame(taxon=taxa,   # species designations\n",
      "    sample.id = IDs,          # sample IDs\n",
      "    EV1 = pca$eigenvect[,1],    # the first eigenvector\n",
      "    EV2 = pca$eigenvect[,2],    # the second eigenvector\n",
      "    EV3 = pca$eigenvect[,3],    # the third eigenvector\n",
      "    EV4 = pca$eigenvect[,4],    # the fourth eigenvector                                             \n",
      "    stringsAsFactors = FALSE)\n",
      "\n",
      "print(tab)"
     ],
     "language": "python",
     "metadata": {},
     "outputs": [
      {
       "metadata": {},
       "output_type": "display_data",
       "text": [
        "         taxon sample.id         EV1        EV2           EV3          EV4\n",
        "1  cassinoides      ELS2  0.08526604  0.3064366  0.0123648156  0.286251048\n",
        "2  cassinoides     ELS29  0.07106962  0.2729821 -0.0220409238 -0.625693881\n",
        "3  cassinoides      ELS3  0.06750667  0.2341094  0.0103926157  0.217926947\n",
        "4  cassinoides     ELS50  0.07057640  0.2518458 -0.0109594078 -0.577068421\n",
        "5  cassinoides     ELS77  0.08081734  0.2752663  0.0084536528  0.221239823\n",
        "6  cassinoides     ELS79  0.08312310  0.2899391  0.0018006121  0.257375369\n",
        "7  cassinoides      LS54  0.04942187  0.1851844  0.0039584545  0.149361729\n",
        "8  cassinoides      YU08  0.03500565  0.1294879  0.0028325019  0.085698757\n",
        "9      lentago     ELS73 -0.17520247 -0.1903034  0.6027888238 -0.016048834\n",
        "10     lentago     ELS85 -0.18226341 -0.1896076  0.6146758029 -0.020295202\n",
        "11 prunifolium        AA -0.19641760 -0.2116619 -0.2313421986  0.014418106\n",
        "12 prunifolium     ELS57 -0.22103891 -0.2385101 -0.2594162786  0.014216698\n",
        "13   punctatum       D19  0.84540644 -0.4739569  0.0004084496 -0.005114517\n",
        "14   rufidulum        AA -0.15334876 -0.1596501 -0.1897012303  0.006182145\n",
        "15   rufidulum      ELS1 -0.14190410 -0.1503779 -0.1568999139 -0.008913984\n",
        "16   rufidulum     ELS17 -0.13970174 -0.1430667 -0.1669464100 -0.000674640\n",
        "17   rufidulum     ELS25 -0.17831613 -0.1881171 -0.2203693659  0.001138857\n"
       ]
      }
     ],
     "prompt_number": 14
    },
    {
     "cell_type": "code",
     "collapsed": false,
     "input": [
      "%%R\n",
      "colors = c(\"red\",\"red\",\"red\",\"red\",\"red\",\"red\",\"red\",\"red\",\n",
      "           \"blue\",\"blue\",\n",
      "           \"green\",\"green\",\n",
      "           \"black\",\n",
      "           \"orange\",\"orange\",\"orange\",\"orange\")"
     ],
     "language": "python",
     "metadata": {},
     "outputs": [],
     "prompt_number": 15
    },
    {
     "cell_type": "markdown",
     "metadata": {},
     "source": [
      "## PCA plot"
     ]
    },
    {
     "cell_type": "code",
     "collapsed": false,
     "input": [
      "%%R -h 800 -w 600\n",
      "\n",
      "## panel plot\n",
      "par(oma = c(4, 1, 1, 1))\n",
      "par(mfrow=c(3,2))\n",
      "\n",
      "## plot the first two PC axes\n",
      "plot(tab$EV2, tab$EV1, xlab=\"eigenvector 2\", ylab=\"eigenvector 1\",\n",
      "     cex=3, pch=21, bg=colors, type='n')\n",
      "text(tab$EV2,tab$EV1,labels=tab$sample.id, cex=1.3, col=colors)\n",
      "\n",
      "## plot 3 x 1\n",
      "plot(tab$EV3, tab$EV1, xlab=\"eigenvector 3\", ylab=\"eigenvector 1\",\n",
      "     cex=3, pch=21, bg=colors, type='n')\n",
      "text(tab$EV3,tab$EV1,labels=tab$sample.id, cex=1.3, col=colors)\n",
      "\n",
      "## plot 3 x 2\n",
      "plot(tab$EV3, tab$EV2, xlab=\"eigenvector 3\", ylab=\"eigenvector 2\",\n",
      "     cex=3, pch=21, bg=colors, type='n')\n",
      "text(tab$EV3,tab$EV2,labels=tab$sample.id, cex=1.3, col=colors)\n",
      "\n",
      "## plot 1 x 4\n",
      "plot(tab$EV4, tab$EV1, xlab=\"eigenvector 4\", ylab=\"eigenvector 1\",\n",
      "     cex=3, pch=21, bg=colors, type='n')\n",
      "text(tab$EV4,tab$EV1,labels=tab$sample.id, cex=1.3, col=colors)\n",
      "\n",
      "## plot 2 x 4\n",
      "plot(tab$EV4, tab$EV2, xlab=\"eigenvector 4\", ylab=\"eigenvector 2\",\n",
      "     cex=3, pch=21, bg=colors, type='n')\n",
      "text(tab$EV4,tab$EV2,labels=tab$sample.id, cex=1.3, col=colors)\n",
      "\n",
      "## plot 3 x 4\n",
      "plot(tab$EV4, tab$EV3, xlab=\"eigenvector 4\", ylab=\"eigenvector 3\",\n",
      "     cex=3, pch=21, bg=colors, type='n')\n",
      "text(tab$EV4,tab$EV3,labels=tab$sample.id, cex=1.3, col=colors)\n",
      "\n",
      "## make legend\n",
      "par(fig = c(0, 1, 0, 1), oma = c(0, 0, 0, 0), mar = c(0, 0, 0, 0), new = TRUE)\n",
      "plot(0, 0, type = \"n\", bty = \"n\", xaxt = \"n\", yaxt = \"n\")\n",
      "legend(\"bottom\", c(\"cassinoides\",\"lentago\",\"prunifolium\",\"rufidulum\", \"punctatum\"), \n",
      "        xpd = TRUE, horiz = TRUE, inset = c(0,0), cex=1.8,\n",
      "        bty = \"n\", pch = 19, col= c(\"red\", \"blue\",\"green\",\"orange\",\"black\"))"
     ],
     "language": "python",
     "metadata": {},
     "outputs": [
      {
       "metadata": {},
       "output_type": "display_data",
       "png": "[encoded data removed]"
      }
     ],
     "prompt_number": 17
    },
    {
     "cell_type": "markdown",
     "metadata": {},
     "source": [
      "## Structure analysis\n",
      "We used the 'k' option in _pyRAD_ to output structure formatted SNPs. Below I download and fill-in the _structure_ template params file, then run the admixture model for 10 replicates for each K value between xx-yy. I then use CLUMPP to find average population assignments across permuted replicates. "
     ]
    },
    {
     "cell_type": "code",
     "collapsed": false,
     "input": [
      "dl = ! wget www.dereneaton.com/downloads/struct.main   -q -O struct.main  \n",
      "dl = ! wget www.dereneaton.com/downloads/struct.extras -q -O struct.extras  "
     ],
     "language": "python",
     "metadata": {},
     "outputs": [],
     "prompt_number": 60
    },
    {
     "cell_type": "code",
     "collapsed": false,
     "input": [
      "## set the file format to match pyRAD structure format (6 blank columns)\n",
      "## meaning no populations, locations or phenotypes are set, \n",
      "## and names are printed in extracols (column 6)\n",
      "stderr = ! sed -i '/LABEL /c\\#define LABEL 1 //'         struct.main\n",
      "stderr = ! sed -i '/POPDATA /c\\#define POPDATA 0 //'     struct.main\n",
      "stderr = ! sed -i '/POPFLAG /c\\#define POPFLAG 0 //'     struct.main\n",
      "stderr = ! sed -i '/LOCDATA /c\\#define LOCDATA 0 //'     struct.main\n",
      "stderr = ! sed -i '/PHENOTYPE /c\\#define PHENOTYPE 0 //' struct.main\n",
      "stderr = ! sed -i '/EXTRACOLS /c\\#define EXTRACOLS 0 //' struct.main\n",
      "stderr = ! sed -i '/BURNIN /c\\#define BURNIN 10000 //'   struct.main\n",
      "stderr = ! sed -i '/NUMREPS /c\\#define NUMREPS 100000 //' struct.main\n",
      "\n",
      "stderr = ! sed -i '/RANDOMIZE /c\\#define RANDOMIZE 0 //' struct.extras\n",
      "stderr = ! sed -i '/LOCISPOP /c\\#define LOCISPOP 0 //'     struct.extras\n",
      "stderr = ! sed -i '/USEPOPINFO /c\\#define USEPOPINFO 0 //' struct.extras"
     ],
     "language": "python",
     "metadata": {},
     "outputs": [],
     "prompt_number": 61
    },
    {
     "cell_type": "code",
     "collapsed": false,
     "input": [
      "## create a Parallel computing client\n",
      "## can map a function across how ever many \n",
      "## parallel engines are turned on in the notebook\n",
      "## under the Clusters tab\n",
      "import numpy as np\n",
      "from IPython.parallel import Client\n",
      "PAR = Client()[:]\n",
      "LOADBALANCE = Client().load_balanced_view()"
     ],
     "language": "python",
     "metadata": {},
     "outputs": [],
     "prompt_number": 62
    },
    {
     "cell_type": "code",
     "collapsed": false,
     "input": [
      "## a python function to call structure with some args\n",
      "## adding decorator to allow parallel computing  \n",
      "@LOADBALANCE.parallel(block=True)\n",
      "def structure(arg):\n",
      "    ff = arg[1]\n",
      "    dimstring = ! head -n 1 $ff\".unlinked_snps\"\n",
      "    NUMINDS, NUMLOCI = map(int,str(dimstring)[2:-2].split()) \n",
      "    cmd = \"\"\" -m struct.main \\\n",
      "              -e struct.extras \\\n",
      "              -K %d \\\n",
      "              -N %s \\\n",
      "              -L %s \\\n",
      "              -i %s.str \\\n",
      "              -D %s \\\n",
      "              -o %s \"\"\" % (arg[0], NUMINDS, NUMLOCI, ff, \n",
      "                           arg[3],\n",
      "                           arg[2]+\".K\"+str(arg[0]))\n",
      "    stderr = ! structure $cmd"
     ],
     "language": "python",
     "metadata": {},
     "outputs": [],
     "prompt_number": 63
    },
    {
     "cell_type": "code",
     "collapsed": false,
     "input": [
      "args = [[K, \"project_cassinoides/outfiles/cassinoides_c88d6m10p3noutg\", \n",
      "        \"project_cassinoides/struct\"+str(reps),str(np.random.randint(0,1e9,1)[0])] \\\n",
      "        for K in [3,4,5] \\\n",
      "        for reps in range(1,11)]\n",
      "for i in args[:]: print i"
     ],
     "language": "python",
     "metadata": {},
     "outputs": [
      {
       "output_type": "stream",
       "stream": "stdout",
       "text": [
        "[3, 'project_cassinoides/outfiles/cassinoides_c88d6m10p3noutg', 'project_cassinoides/struct1', '679250647']\n",
        "[3, 'project_cassinoides/outfiles/cassinoides_c88d6m10p3noutg', 'project_cassinoides/struct2', '418466322']\n",
        "[3, 'project_cassinoides/outfiles/cassinoides_c88d6m10p3noutg', 'project_cassinoides/struct3', '76904207']\n",
        "[3, 'project_cassinoides/outfiles/cassinoides_c88d6m10p3noutg', 'project_cassinoides/struct4', '28869391']\n",
        "[3, 'project_cassinoides/outfiles/cassinoides_c88d6m10p3noutg', 'project_cassinoides/struct5', '486117151']\n",
        "[3, 'project_cassinoides/outfiles/cassinoides_c88d6m10p3noutg', 'project_cassinoides/struct6', '215860065']\n",
        "[3, 'project_cassinoides/outfiles/cassinoides_c88d6m10p3noutg', 'project_cassinoides/struct7', '429393422']\n",
        "[3, 'project_cassinoides/outfiles/cassinoides_c88d6m10p3noutg', 'project_cassinoides/struct8', '737278062']\n",
        "[3, 'project_cassinoides/outfiles/cassinoides_c88d6m10p3noutg', 'project_cassinoides/struct9', '350659999']\n",
        "[3, 'project_cassinoides/outfiles/cassinoides_c88d6m10p3noutg', 'project_cassinoides/struct10', '783486257']\n",
        "[4, 'project_cassinoides/outfiles/cassinoides_c88d6m10p3noutg', 'project_cassinoides/struct1', '947327396']\n",
        "[4, 'project_cassinoides/outfiles/cassinoides_c88d6m10p3noutg', 'project_cassinoides/struct2', '355822817']\n",
        "[4, 'project_cassinoides/outfiles/cassinoides_c88d6m10p3noutg', 'project_cassinoides/struct3', '150343243']\n",
        "[4, 'project_cassinoides/outfiles/cassinoides_c88d6m10p3noutg', 'project_cassinoides/struct4', '901664369']\n",
        "[4, 'project_cassinoides/outfiles/cassinoides_c88d6m10p3noutg', 'project_cassinoides/struct5', '852062605']\n",
        "[4, 'project_cassinoides/outfiles/cassinoides_c88d6m10p3noutg', 'project_cassinoides/struct6', '442071159']\n",
        "[4, 'project_cassinoides/outfiles/cassinoides_c88d6m10p3noutg', 'project_cassinoides/struct7', '546785740']\n",
        "[4, 'project_cassinoides/outfiles/cassinoides_c88d6m10p3noutg', 'project_cassinoides/struct8', '607757492']\n",
        "[4, 'project_cassinoides/outfiles/cassinoides_c88d6m10p3noutg', 'project_cassinoides/struct9', '186087787']\n",
        "[4, 'project_cassinoides/outfiles/cassinoides_c88d6m10p3noutg', 'project_cassinoides/struct10', '30033790']\n",
        "[5, 'project_cassinoides/outfiles/cassinoides_c88d6m10p3noutg', 'project_cassinoides/struct1', '980340506']\n",
        "[5, 'project_cassinoides/outfiles/cassinoides_c88d6m10p3noutg', 'project_cassinoides/struct2', '290854478']\n",
        "[5, 'project_cassinoides/outfiles/cassinoides_c88d6m10p3noutg', 'project_cassinoides/struct3', '834955508']\n",
        "[5, 'project_cassinoides/outfiles/cassinoides_c88d6m10p3noutg', 'project_cassinoides/struct4', '932642501']\n",
        "[5, 'project_cassinoides/outfiles/cassinoides_c88d6m10p3noutg', 'project_cassinoides/struct5', '720354407']\n",
        "[5, 'project_cassinoides/outfiles/cassinoides_c88d6m10p3noutg', 'project_cassinoides/struct6', '709721336']\n",
        "[5, 'project_cassinoides/outfiles/cassinoides_c88d6m10p3noutg', 'project_cassinoides/struct7', '468780623']\n",
        "[5, 'project_cassinoides/outfiles/cassinoides_c88d6m10p3noutg', 'project_cassinoides/struct8', '785193594']\n",
        "[5, 'project_cassinoides/outfiles/cassinoides_c88d6m10p3noutg', 'project_cassinoides/struct9', '393081939']\n",
        "[5, 'project_cassinoides/outfiles/cassinoides_c88d6m10p3noutg', 'project_cassinoides/struct10', '645213932']\n"
       ]
      }
     ],
     "prompt_number": 64
    },
    {
     "cell_type": "code",
     "collapsed": false,
     "input": [
      "## run these jobs in parallel\n",
      "quiet = structure.map(args)"
     ],
     "language": "python",
     "metadata": {},
     "outputs": [],
     "prompt_number": 65
    },
    {
     "cell_type": "markdown",
     "metadata": {},
     "source": [
      "#### Use _CLUMPP_ to get means across permuted replicates  \n",
      "First I create concatenated indfiles by cutting out the relevant lines of the _STRUCTURE_ output and appending to a single file for all replicates with the same value of $K$. Then I create and edit a _CLUMPP_ params file, entering settings to perform permutations of all iterations using the greedy algorithm. "
     ]
    },
    {
     "cell_type": "code",
     "collapsed": false,
     "input": [
      "import glob\n",
      "for K in [3,4,5]:\n",
      "    repfiles = glob.glob(\"project_cassinoides/struct*.K\"+str(K)+\"_f\")\n",
      "    outfile = open(\"project_cassinoides/r\"+str(K)+\".indfile\",'w')\n",
      "    for ff in repfiles:\n",
      "        i = 1\n",
      "        for line in open(ff).readlines():\n",
      "            if \")   :  \" in line:\n",
      "                ll = line.strip().split()\n",
      "                print >>outfile, \" \".join([ll[0],ll[0],ll[2],ll[0].split('.')[0]])+\" :  \"+\" \".join(ll[4:])\n",
      "                i += 1\n",
      "        print >>outfile, \"\"\n",
      "    outfile.close()\n",
      "    \n",
      "    \n",
      "## get template CLUMPP params file, I host a template file at this download\n",
      "! wget -q www.dereneaton.com/downloads/clumpp.paramfile -O clumpp.paramsfile\n",
      "\n",
      "## fill in the template: tell it the format to use individuals\n",
      "stderr = ! sed -i '/type of data /c\\DATATYPE 0    # individuals //' clumpp.paramsfile\n",
      "stderr = ! sed -i '/individuals or populations /c\\C 109    # N individuals //' clumpp.paramsfile\n",
      "stderr = ! sed -i '/Print the permuted /c\\PRINT_PERMUTED_DATA 0    # no print //' clumpp.paramsfile"
     ],
     "language": "python",
     "metadata": {},
     "outputs": [],
     "prompt_number": 73
    },
    {
     "cell_type": "code",
     "collapsed": false,
     "input": [
      "NREPS = 10\n",
      "NINDS = 15\n",
      "for K in [3,4,5]:\n",
      "    args = \"-i project_cassinoides/r%s.indfile \\\n",
      "            -o project_cassinoides/r%s.outfile \\\n",
      "            -j project_cassinoides/r%s.miscfile \\\n",
      "            -k %s -r %s -c %s \" % (K,K,K,K,NREPS,NINDS)\n",
      "    stderr = ! ~/local/src/CLUMPP_Linux64.1.1.2/CLUMPP clumpp.paramsfile $args"
     ],
     "language": "python",
     "metadata": {},
     "outputs": [],
     "prompt_number": 77
    },
    {
     "cell_type": "code",
     "collapsed": false,
     "input": [
      "from collections import OrderedDict\n",
      "import seaborn as sns\n",
      "\n",
      "def structplot(K): \n",
      "    infile = \"project_cassinoides/r\"+str(K)+\".outfile\"\n",
      "    dat = open(infile).readlines()\n",
      "\n",
      "    D = OrderedDict()\n",
      "    for line in dat:\n",
      "        ll = line.strip().split()\n",
      "        vals = [float(i)*100 for i in ll[5:]]\n",
      "        D[ll[1]] = vals\n",
      "    cmap = sns.color_palette(\"pastel\", 5) \n",
      "    fig, ax = plt.subplots(figsize=(10,2))\n",
      "\n",
      "    ## normalize values to 100\n",
      "    for i in D:\n",
      "        D[i] = [100*(j/sum(D[i])) for j in D[i]]\n",
      "    \n",
      "    ## make plot\n",
      "    for col in range(len(D.values()[0])):\n",
      "        if col > 0:\n",
      "            ax.bar(range(len(D.keys())),[i[col] for i in D.values()], bottom = [sum(i[:col]) for i in D.values()],\n",
      "                   color=cmap[col], width=1.)\n",
      "        else:\n",
      "            ax.bar(range(len(D.keys())),[i[col] for i in D.values()], bottom = 0,\n",
      "                   color=cmap[col], width=1.)\n",
      "                \n",
      "    ax.set_xlim(0,15)\n",
      "    ax.set_ylim(-0,100)\n",
      "    ax.set_yticks(range(0,120,20))\n",
      "    ax.set_xticks([i+0.5 for i in range(0,15)])\n",
      "    ax.set_xticklabels(names)\n",
      "    ax.grid(False)\n",
      "    for line in [8,10,11]:\n",
      "        ax.axvline(x=line, linewidth=4, color='white')\n",
      "    ax.axhline(y=0.00, linewidth=2, color=\"#262626\")\n",
      "    ax.axhline(y=100, linewidth=2, color=\"#262626\")"
     ],
     "language": "python",
     "metadata": {},
     "outputs": [],
     "prompt_number": 140
    },
    {
     "cell_type": "markdown",
     "metadata": {},
     "source": [
      "## Structure plots  \n",
      "\n",
      "The white bars separate the different taxa. The order is cassinoides (8), lentago (2), prunifolium (1), rufidulum (4). "
     ]
    },
    {
     "cell_type": "code",
     "collapsed": false,
     "input": [
      "structplot(3)"
     ],
     "language": "python",
     "metadata": {},
     "outputs": [
      {
       "metadata": {},
       "output_type": "display_data",
       "png": "[encoded data removed]",
       "text": [
        "<matplotlib.figure.Figure at 0xaf90d10>"
       ]
      }
     ],
     "prompt_number": 141
    },
    {
     "cell_type": "code",
     "collapsed": false,
     "input": [
      "structplot(4)"
     ],
     "language": "python",
     "metadata": {},
     "outputs": [
      {
       "metadata": {},
       "output_type": "display_data",
       "png": "[encoded data removed]",
       "text": [
        "<matplotlib.figure.Figure at 0xb4d66d0>"
       ]
      }
     ],
     "prompt_number": 142
    },
    {
     "cell_type": "code",
     "collapsed": false,
     "input": [
      "structplot(5)"
     ],
     "language": "python",
     "metadata": {},
     "outputs": [
      {
       "metadata": {},
       "output_type": "display_data",
       "png": "[encoded data removed]",
       "text": [
        "<matplotlib.figure.Figure at 0xbdbb650>"
       ]
      }
     ],
     "prompt_number": 143
    },
    {
     "cell_type": "code",
     "collapsed": false,
     "input": [],
     "language": "python",
     "metadata": {},
     "outputs": []
    }
   ],
   "metadata": {}
  }
 ]
}