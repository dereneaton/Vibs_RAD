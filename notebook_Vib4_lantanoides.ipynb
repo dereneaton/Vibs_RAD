{
 "metadata": {
  "name": "",
  "signature": "sha256:3f74a7fb4c0633ab8feff55814a48dca6acdb92d9472a1d01a8ff47d0f1fc420"
 },
 "nbformat": 3,
 "nbformat_minor": 0,
 "worksheets": []
}