{
 "metadata": {
  "name": "",
  "signature": "sha256:da23179cc87873266918434c4ead66eca7e6218fd311b2a0df46a939dbcc80fb"
 },
 "nbformat": 3,
 "nbformat_minor": 0,
 "worksheets": [
  {
   "cells": [
    {
     "cell_type": "markdown",
     "metadata": {},
     "source": [
      "# Viburnum RADseq project\n",
      "### Notebook 4: Analysis of _V. lantanoides & relatives\n",
      "\n",
      "-----------------------   \n"
     ]
    },
    {
     "cell_type": "code",
     "collapsed": false,
     "input": [
      "## load libraries for running R\n",
      "%load_ext rmagic\n",
      "\n",
      "## for embedding figures\n",
      "import matplotlib.pyplot as plt\n",
      "%matplotlib inline\n",
      "\n",
      "## a directory for putting figures & results into\n",
      "! mkdir -p project_lantanoides/figures/"
     ],
     "language": "python",
     "metadata": {},
     "outputs": [],
     "prompt_number": 16
    },
    {
     "cell_type": "markdown",
     "metadata": {},
     "source": [
      "### The data set\n",
      "This analysis will use the data sets produced in [Notebook2](link). We are interested in testing for introgression between lineages. We will use the \".loci\" output file to perform D-statistic tests in _pyRAD_, and use the \".treemix.gz\" output to test introgression in _TreeMix_. \n",
      "\n",
      "Below is the tree inferred from this data set in _RAxML_. \n"
     ]
    },
    {
     "cell_type": "code",
     "collapsed": false,
     "input": [
      "%%R -w 400 -h 400\n",
      "library(ape)\n",
      "## 65,115 loci\n",
      "## 5.6M bp alignment\n",
      "## 44% missing data\n",
      "lant_m4 <- read.tree(\"project_lantanoides/analyses_raxml/RAxML_bipartitions.lantanoides_c88d6m4p3\")\n",
      "tre <- ladderize(lant_m4)\n",
      "plot(tre, edge.width=2)\n",
      "nodelabels(tre$node.label, bg='grey')"
     ],
     "language": "python",
     "metadata": {},
     "outputs": [
      {
       "metadata": {},
       "output_type": "display_data",
       "png": "[encoded data removed]"
      }
     ],
     "prompt_number": 18
    },
    {
     "cell_type": "markdown",
     "metadata": {},
     "source": [
      "## D-statistic tests  \n",
      "\n",
      "First we will setup the input file with parameters and topologies over which to measure `D`. "
     ]
    },
    {
     "cell_type": "code",
     "collapsed": false,
     "input": [
      "%%bash\n",
      "## make a new directory for D-statistic tests\n",
      "mkdir -p project_lantanoides/analysis_dtests/\n",
      "\n",
      "## generate template params file\n",
      "~/Dropbox/pyrad-github/pyRAD -D > project_lantanoides/analysis_dtests/template.D\n",
      "\n",
      "## look at template\n",
      "cat project_lantanoides/analysis_dtests/template.D"
     ],
     "language": "python",
     "metadata": {},
     "outputs": [
      {
       "output_type": "stream",
       "stream": "stdout",
       "text": [
        "200                          ## N bootstrap replicates\n",
        "test.loci                    ## loc/path to input .loci file\n",
        "dstats/test1_res             ## output file path/name (no suffix)\n",
        "4                            ## which test: 4,part,foil,foilalt\n",
        "2                            ## N cores (execute jobs [lines below] in parallel\n",
        "0                            ## output ABBA/BABA loci to files (0=no,1,2=verbose)\n",
        "0                            ## output bootstrap Ds to files (0=no,1=yes)\n",
        "-----------------------------------------------------------\n"
       ]
      }
     ],
     "prompt_number": 82
    },
    {
     "cell_type": "code",
     "collapsed": false,
     "input": [
      "%%bash\n",
      "## substitute new values into the template\n",
      "sed -i \"/## loc/c\\project_lantanoides/outfiles/lantanoides_c88d6m4p3.loci  ## loc/path \" project_lantanoides/analysis_dtests/template.D\n",
      "sed -i \"/## output file/c\\project_lantanoides/analysis_dtests/result  ## output file \" project_lantanoides/analysis_dtests/template.D\n",
      "sed -i \"/## N cores/c\\16                           ## N cores \" project_lantanoides/analysis_dtests/template.D\n",
      "\n",
      "## look at template\n",
      "cat project_lantanoides/analysis_dtests/template.D"
     ],
     "language": "python",
     "metadata": {},
     "outputs": [
      {
       "output_type": "stream",
       "stream": "stdout",
       "text": [
        "200                          ## N bootstrap replicates\n",
        "project_lantanoides/outfiles/lantanoides_c88d6m4p3.loci  ## loc/path \n",
        "project_lantanoides/analysis_dtests/result  ## output file \n",
        "4                            ## which test: 4,part,foil,foilalt\n",
        "16                           ## N cores \n",
        "0                            ## output ABBA/BABA loci to files (0=no,1,2=verbose)\n",
        "0                            ## output bootstrap Ds to files (0=no,1=yes)\n",
        "-----------------------------------------------------------\n"
       ]
      }
     ],
     "prompt_number": 83
    },
    {
     "cell_type": "code",
     "collapsed": false,
     "input": [
      "## put samples into groups (taxa)\n",
      "outgroups = [\"plicatum_C1_MJDJP_12\", \"carlesii_D1_BP_001\", \"foetidum_D24_KFC_1942\"]\n",
      "nervosum = [\"nervosum_C4_PWS_2298\", \"nervosum_C2_PWS_2288_2289\"]\n",
      "sympodiale = [\"sympodiale_D18_KFC_1932\"]\n",
      "furcatum = [\"furcatum_combined\"]\n",
      "lantanoides = [\"lantanoides_D15_Beartown_2\", \"lantanoides_D14_Beartown_1\",\n",
      "               \"lantanoides_D_17_Mohawk_3\",\"lantanoides_D16_Mohawk_2\"]"
     ],
     "language": "python",
     "metadata": {},
     "outputs": [],
     "prompt_number": 84
    },
    {
     "cell_type": "code",
     "collapsed": false,
     "input": [
      "def makeD4(P1,P2,P3,O,num,name,template):\n",
      "    stringout = \"\"\n",
      "    tests = []\n",
      "    i = 1\n",
      "    for p1 in P1: \n",
      "        for p2 in P2:\n",
      "            for p3 in P3:\n",
      "                if p1 != p2:\n",
      "                    if set([p1,p2,p3]) not in tests:\n",
      "                        stringout += \"[%s]\\t[%s]\\t[%s]\\t[%s]\\t## test %i.%i\\n\" % (p1,p2,p3,\",\".join(O),num,i)\n",
      "                        i += 1\n",
      "                        tests.append(set([p1,p2,p3]))\n",
      "    ! head -n 8 $template > \"project_lantanoides/analysis_dtests/input.\"$num\".\"$name\".txt\"\n",
      "    ! echo \"$stringout\" >> \"project_lantanoides/analysis_dtests/input.\"$num\".\"$name\".txt\"\n",
      "    ostring = \"/## output file/c\\\\project_lantanoides/analysis_dtests/out.\"+str(num)+\".\"+str(name)+\"      ## output file \"\n",
      "    ! sed -i \"$ostring\" \"project_lantanoides/analysis_dtests/input.\"$num\".\"$name\".txt\""
     ],
     "language": "python",
     "metadata": {},
     "outputs": [],
     "prompt_number": 85
    },
    {
     "cell_type": "code",
     "collapsed": false,
     "input": [
      "##\n",
      "makeD4(lantanoides,lantanoides,furcatum,outgroups,1,\n",
      "       \"LLF\",\"project_lantanoides/analysis_dtests/template.D\")\n",
      "makeD4(lantanoides,lantanoides,nervosum,outgroups,2,\n",
      "       \"LLN\",\"project_lantanoides/analysis_dtests/template.D\")\n",
      "makeD4(lantanoides,lantanoides,sympodiale,outgroups,3,\n",
      "       \"LLS\",\"project_lantanoides/analysis_dtests/template.D\")\n",
      "##\n",
      "makeD4(lantanoides,furcatum,nervosum,outgroups,4,\n",
      "       \"LFN\",\"project_lantanoides/analysis_dtests/template.D\")\n",
      "makeD4(lantanoides,sympodiale,nervosum,outgroups,5,\n",
      "       \"LFS\",\"project_lantanoides/analysis_dtests/template.D\")\n",
      "##\n",
      "makeD4(nervosum,nervosum,lantanoides,outgroups,6,\n",
      "       \"NNL\",\"project_lantanoides/analysis_dtests/template.D\")\n",
      "makeD4(nervosum,nervosum,sympodiale,outgroups,7,\n",
      "       \"NNS\",\"project_lantanoides/analysis_dtests/template.D\")\n",
      "makeD4(nervosum,nervosum,furcatum,outgroups,8,\n",
      "       \"NNF\",\"project_lantanoides/analysis_dtests/template.D\")"
     ],
     "language": "python",
     "metadata": {},
     "outputs": [],
     "prompt_number": 86
    },
    {
     "cell_type": "code",
     "collapsed": false,
     "input": [
      "%%bash\n",
      "cat project_lantanoides/analysis_dtests/input.1.LLF.txt"
     ],
     "language": "python",
     "metadata": {},
     "outputs": [
      {
       "output_type": "stream",
       "stream": "stdout",
       "text": [
        "200                          ## N bootstrap replicates\n",
        "project_lantanoides/outfiles/lantanoides_c88d6m4p3.loci  ## loc/path \n",
        "project_lantanoides/analysis_dtests/out.1.LLF      ## output file \n",
        "4                            ## which test: 4,part,foil,foilalt\n",
        "16                           ## N cores \n",
        "0                            ## output ABBA/BABA loci to files (0=no,1,2=verbose)\n",
        "0                            ## output bootstrap Ds to files (0=no,1=yes)\n",
        "-----------------------------------------------------------\n",
        "[lantanoides_D15_Beartown_2]\t[lantanoides_D14_Beartown_1]\t[furcatum_combined]\t[plicatum_C1_MJDJP_12,carlesii_D1_BP_001,foetidum_D24_KFC_1942]\t## test 1.1\n",
        "[lantanoides_D15_Beartown_2]\t[lantanoides_D_17_Mohawk_3]\t[furcatum_combined]\t[plicatum_C1_MJDJP_12,carlesii_D1_BP_001,foetidum_D24_KFC_1942]\t## test 1.2\n",
        "[lantanoides_D15_Beartown_2]\t[lantanoides_D16_Mohawk_2]\t[furcatum_combined]\t[plicatum_C1_MJDJP_12,carlesii_D1_BP_001,foetidum_D24_KFC_1942]\t## test 1.3\n",
        "[lantanoides_D14_Beartown_1]\t[lantanoides_D_17_Mohawk_3]\t[furcatum_combined]\t[plicatum_C1_MJDJP_12,carlesii_D1_BP_001,foetidum_D24_KFC_1942]\t## test 1.4\n",
        "[lantanoides_D14_Beartown_1]\t[lantanoides_D16_Mohawk_2]\t[furcatum_combined]\t[plicatum_C1_MJDJP_12,carlesii_D1_BP_001,foetidum_D24_KFC_1942]\t## test 1.5\n",
        "[lantanoides_D_17_Mohawk_3]\t[lantanoides_D16_Mohawk_2]\t[furcatum_combined]\t[plicatum_C1_MJDJP_12,carlesii_D1_BP_001,foetidum_D24_KFC_1942]\t## test 1.6\n",
        "\n"
       ]
      }
     ],
     "prompt_number": 87
    },
    {
     "cell_type": "code",
     "collapsed": false,
     "input": [
      "## run tests\n",
      "import glob\n",
      "for test in range(1,9):\n",
      "    t = glob.glob(\"project_lantanoides/analysis_dtests/input.\"+str(test)+\".*\")[0]\n",
      "    print \"running\",t\n",
      "    stderr = ! ~/Dropbox/pyrad-github/pyRAD -d $t"
     ],
     "language": "python",
     "metadata": {},
     "outputs": [
      {
       "output_type": "stream",
       "stream": "stdout",
       "text": [
        "running project_lantanoides/analysis_dtests/input.1.LLF.txt\n"
       ]
      },
      {
       "output_type": "stream",
       "stream": "stdout",
       "text": [
        "running project_lantanoides/analysis_dtests/input.2.LLN.txt\n"
       ]
      },
      {
       "output_type": "stream",
       "stream": "stdout",
       "text": [
        "running project_lantanoides/analysis_dtests/input.3.LLS.txt\n"
       ]
      },
      {
       "output_type": "stream",
       "stream": "stdout",
       "text": [
        "running project_lantanoides/analysis_dtests/input.4.LFN.txt\n"
       ]
      },
      {
       "output_type": "stream",
       "stream": "stdout",
       "text": [
        "running project_lantanoides/analysis_dtests/input.5.LFS.txt\n"
       ]
      },
      {
       "output_type": "stream",
       "stream": "stdout",
       "text": [
        "running project_lantanoides/analysis_dtests/input.6.NNL.txt\n"
       ]
      },
      {
       "output_type": "stream",
       "stream": "stdout",
       "text": [
        "running project_lantanoides/analysis_dtests/input.7.NNS.txt\n"
       ]
      },
      {
       "output_type": "stream",
       "stream": "stdout",
       "text": [
        "running project_lantanoides/analysis_dtests/input.8.NNF.txt\n"
       ]
      }
     ],
     "prompt_number": 114
    },
    {
     "cell_type": "code",
     "collapsed": false,
     "input": [
      "%%bash \n",
      "echo -e \"\\n==== test 1 === furcatum into lantanoides?\"\n",
      "cut -f5-13 project_lantanoides/analysis_dtests/out.1.LLF.D4.txt\n",
      "echo -e \"\\n==== test 2 === nervosum into lantanoides?\"\n",
      "cut -f5-13 project_lantanoides/analysis_dtests/out.2.LLN.D4.txt\n",
      "echo -e \"\\n==== test 3 === sympodiale into lantanoides?\"\n",
      "cut -f5-13 project_lantanoides/analysis_dtests/out.3.LLS.D4.txt\n",
      "echo -e \"\\n==== test 4 === nervosum into lant v furc\"\n",
      "cut -f5-13 project_lantanoides/analysis_dtests/out.4.LFN.D4.txt\n",
      "echo -e \"\\n==== test 5 === sympodiale into lant v furc\"\n",
      "cut -f5-13 project_lantanoides/analysis_dtests/out.5.LFS.D4.txt\n",
      "echo -e \"\\n==== test 6 === lantanoides into nervosum\"\n",
      "cut -f5-13 project_lantanoides/analysis_dtests/out.6.NNL.D4.txt\n",
      "echo -e \"\\n==== test 7 === sympodiale into nervosum\"\n",
      "cut -f5-13 project_lantanoides/analysis_dtests/out.7.NNS.D4.txt\n",
      "echo -e \"\\n==== test 8 === furcatum into nervosum\"\n",
      "cut -f5-13 project_lantanoides/analysis_dtests/out.8.NNF.D4.txt"
     ],
     "language": "python",
     "metadata": {},
     "outputs": [
      {
       "output_type": "stream",
       "stream": "stdout",
       "text": [
        "\n",
        "==== test 1 === furcatum into lantanoides?\n",
        "D\tstd(D)\tZ\tBABA\tABBA\tnloci\tnboot\tpdisc\tnotes\n",
        "0.002\t0.053\t0.03\t146.25\t146.75\t11307\t200\t0.03\ttest 1.1\n",
        "-0.064\t0.055\t1.16\t218.62\t192.38\t11845\t200\t0.04\ttest 1.2\n",
        "0.040\t0.054\t0.74\t159.50\t172.75\t11527\t200\t0.03\ttest 1.3\n",
        "-0.113\t0.039\t2.87\t357.62\t284.88\t19209\t200\t0.04\ttest 1.4\n",
        "0.019\t0.066\t0.29\t164.38\t170.88\t10989\t200\t0.03\ttest 1.5\n",
        "0.130\t0.036\t3.59\t268.62\t349.12\t19423\t200\t0.04\ttest 1.6\n",
        "\n",
        "==== test 2 === nervosum into lantanoides?\n",
        "D\tstd(D)\tZ\tBABA\tABBA\tnloci\tnboot\tpdisc\tnotes\n",
        "0.058\t0.059\t0.99\t153.88\t172.88\t11739\t200\t0.03\ttest 2.1\n",
        "0.041\t0.063\t0.66\t121.88\t132.38\t10909\t200\t0.03\ttest 2.2\n",
        "-0.126\t0.054\t2.32\t219.00\t170.00\t12250\t200\t0.03\ttest 2.3\n",
        "-0.054\t0.063\t0.85\t189.12\t169.88\t11431\t200\t0.03\ttest 2.4\n",
        "0.001\t0.055\t0.01\t178.88\t179.12\t11866\t200\t0.03\ttest 2.5\n",
        "-0.050\t0.066\t0.75\t153.00\t138.50\t10949\t200\t0.03\ttest 2.6\n",
        "-0.180\t0.054\t3.34\t220.62\t153.38\t11723\t200\t0.03\ttest 2.7\n",
        "-0.101\t0.053\t1.90\t189.50\t154.75\t10933\t200\t0.03\ttest 2.8\n",
        "-0.039\t0.050\t0.78\t172.38\t159.38\t11319\t200\t0.03\ttest 2.9\n",
        "-0.036\t0.055\t0.66\t147.50\t137.25\t10479\t200\t0.03\ttest 2.10\n",
        "0.091\t0.046\t1.99\t163.62\t196.38\t11818\t200\t0.03\ttest 2.11\n",
        "0.031\t0.060\t0.52\t163.00\t173.50\t11058\t200\t0.03\ttest 2.12\n",
        "\n",
        "==== test 3 === sympodiale into lantanoides?\n",
        "D\tstd(D)\tZ\tBABA\tABBA\tnloci\tnboot\tpdisc\tnotes\n",
        "0.022\t0.039\t0.55\t242.38\t253.12\t19262\t200\t0.03\ttest 3.1\n",
        "-0.064\t0.039\t1.64\t363.25\t319.50\t20148\t200\t0.04\ttest 3.2\n",
        "0.004\t0.041\t0.10\t291.50\t294.00\t19538\t200\t0.03\ttest 3.3\n",
        "-0.113\t0.038\t2.95\t357.62\t284.88\t19209\t200\t0.04\ttest 3.4\n",
        "0.013\t0.045\t0.28\t282.00\t289.25\t18618\t200\t0.03\ttest 3.5\n",
        "0.130\t0.039\t3.36\t268.62\t349.12\t19423\t200\t0.04\ttest 3.6\n",
        "\n",
        "==== test 4 === nervosum into lant v furc\n",
        "D\tstd(D)\tZ\tBABA\tABBA\tnloci\tnboot\tpdisc\tnotes\n",
        "0.016\t0.043\t0.39\t455.00\t470.25\t6884\t200\t0.12\ttest 4.1\n",
        "0.104\t0.043\t2.43\t381.00\t469.50\t6292\t200\t0.12\ttest 4.2\n",
        "0.043\t0.039\t1.12\t425.25\t463.50\t6584\t200\t0.12\ttest 4.3\n",
        "0.078\t0.043\t1.82\t390.88\t457.12\t6085\t200\t0.12\ttest 4.4\n",
        "0.056\t0.040\t1.38\t454.12\t507.88\t6869\t200\t0.13\ttest 4.5\n",
        "0.072\t0.039\t1.85\t428.38\t494.88\t6357\t200\t0.13\ttest 4.6\n",
        "0.099\t0.036\t2.72\t413.50\t504.25\t6670\t200\t0.13\ttest 4.7\n",
        "0.064\t0.042\t1.54\t390.25\t443.75\t6084\t200\t0.12\ttest 4.8\n",
        "\n",
        "==== test 5 === sympodiale into lant v furc\n",
        "D\tstd(D)\tZ\tBABA\tABBA\tnloci\tnboot\tpdisc\tnotes\n",
        "0.034\t0.030\t1.16\t741.62\t794.38\t11538\t200\t0.12\ttest 5.1\n",
        "0.044\t0.029\t1.51\t705.25\t770.75\t10743\t200\t0.13\ttest 5.2\n",
        "0.030\t0.029\t1.04\t707.12\t750.88\t10968\t200\t0.13\ttest 5.3\n",
        "0.057\t0.034\t1.68\t676.88\t758.12\t10243\t200\t0.13\ttest 5.4\n",
        "0.059\t0.028\t2.12\t726.50\t817.25\t11459\t200\t0.13\ttest 5.5\n",
        "0.094\t0.029\t3.20\t689.12\t831.62\t10770\t200\t0.13\ttest 5.6\n",
        "0.056\t0.030\t1.89\t684.75\t766.00\t11128\t200\t0.12\ttest 5.7\n",
        "0.068\t0.031\t2.19\t647.38\t741.12\t10331\t200\t0.12\ttest 5.8\n",
        "\n",
        "==== test 6 === lantanoides into nervosum\n",
        "D\tstd(D)\tZ\tBABA\tABBA\tnloci\tnboot\tpdisc\tnotes\n",
        "0.022\t0.052\t0.42\t201.62\t210.62\t6918\t200\t0.06\ttest 6.1\n",
        "-0.003\t0.055\t0.06\t215.62\t214.12\t6615\t200\t0.06\ttest 6.2\n",
        "0.013\t0.057\t0.24\t211.50\t217.25\t6944\t200\t0.06\ttest 6.3\n",
        "0.013\t0.056\t0.24\t213.38\t219.12\t6676\t200\t0.06\ttest 6.4\n",
        "\n",
        "==== test 7 === sympodiale into nervosum\n",
        "D\tstd(D)\tZ\tBABA\tABBA\tnloci\tnboot\tpdisc\tnotes\n",
        "0.004\t0.053\t0.07\t224.12\t225.88\t6867\t200\t0.06\ttest 7.1\n",
        "\n",
        "==== test 8 === furcatum into nervosum\n",
        "D\tstd(D)\tZ\tBABA\tABBA\tnloci\tnboot\tpdisc\tnotes\n",
        "0.003\t0.068\t0.05\t151.50\t152.50\t4078\t200\t0.07\ttest 8.1\n"
       ]
      }
     ],
     "prompt_number": 133
    },
    {
     "cell_type": "markdown",
     "metadata": {},
     "source": [
      "## Treemix analyses"
     ]
    },
    {
     "cell_type": "code",
     "collapsed": false,
     "input": [
      "%%bash\n",
      "mkdir -p project_lantanoides/analysis_treemix/"
     ],
     "language": "python",
     "metadata": {},
     "outputs": [],
     "prompt_number": 73
    },
    {
     "cell_type": "code",
     "collapsed": false,
     "input": [
      "%%bash\n",
      "echo -e \"nerv\\nfurc\\nlant\\nsymp\\noutg\" > project_lantanoides/analysis_treemix/poporder\n",
      "\n",
      "## no admixture\n",
      "treemix -i project_lantanoides/outfiles/testing_c88d6m10p3.treemix.gz \\\n",
      "        -root outg \\\n",
      "        -k 1 \\\n",
      "        -o project_lantanoides/analysis_treemix/SNPs_m0 > project_lantanoides/analysis_treemix/logSm0\n",
      "        \n",
      "## 1 admixture edge\n",
      "treemix -i project_lantanoides/outfiles/testing_c88d6m10p3.treemix.gz \\\n",
      "        -root outg \\\n",
      "        -k 1 \\\n",
      "        -m 1 \\\n",
      "        -o project_lantanoides/analysis_treemix/SNPs_m1 > project_lantanoides/analysis_treemix/logSm1\n",
      "\n",
      "## 2 admixture edges\n",
      "treemix -i project_lantanoides/outfiles/testing_c88d6m10p3.treemix.gz \\\n",
      "        -root outg \\\n",
      "        -k 1 \\\n",
      "        -m 2 \\\n",
      "        -o project_lantanoides/analysis_treemix/SNPs_m2 > project_lantanoides/analysis_treemix/logSm2        \n"
     ],
     "language": "python",
     "metadata": {},
     "outputs": [],
     "prompt_number": 136
    },
    {
     "cell_type": "code",
     "collapsed": false,
     "input": [
      "%%R\n",
      "source(\"~/local/src/treemix/src/plotting_funcs.R\")"
     ],
     "language": "python",
     "metadata": {},
     "outputs": [],
     "prompt_number": 137
    },
    {
     "cell_type": "code",
     "collapsed": false,
     "input": [
      "%%R -h 400 -w 800\n",
      "par(mfrow=c(1,2));\n",
      "plot_tree(\"project_lantanoides/analysis_treemix/SNPs_m0\", lwd=2)\n",
      "plot_resid(\"project_lantanoides/analysis_treemix/SNPs_m0\",\n",
      "           \"project_lantanoides/analysis_treemix/poporder\")"
     ],
     "language": "python",
     "metadata": {},
     "outputs": [
      {
       "metadata": {},
       "output_type": "display_data",
       "text": [
        "  V1   V2       V3      V4      V5 V6 V7 V8 V9 V10\n",
        "1  1 outg NOT_ROOT NOT_MIG     TIP 33 NA NA NA  NA\n",
        "2  2 <NA> NOT_ROOT NOT_MIG NOT_TIP 32  3  1 16   2\n",
        "3  3 lant NOT_ROOT NOT_MIG     TIP  2 NA NA NA  NA\n",
        "4  4 symp NOT_ROOT NOT_MIG     TIP 16 NA NA NA  NA\n",
        "5 15 furc NOT_ROOT NOT_MIG     TIP 16 NA NA NA  NA\n",
        "6 16 <NA> NOT_ROOT NOT_MIG NOT_TIP  2  4  1 15   1\n",
        "7 31 nerv NOT_ROOT NOT_MIG     TIP 32 NA NA NA  NA\n",
        "8 32 <NA> NOT_ROOT NOT_MIG NOT_TIP 33 31  1  2   3\n",
        "9 33 <NA>     ROOT NOT_MIG NOT_TIP 33  1  1 32   4\n",
        "                                                                                                                 V11\n",
        "1                                                                                                     outg:0.0737969\n",
        "2                                              (lant:0.0397762,(symp:0.0306949,furc:0.0355318):0.0185119):0.00736161\n",
        "3                                                                                                     lant:0.0397762\n",
        "4                                                                                                     symp:0.0306949\n",
        "5                                                                                                     furc:0.0355318\n",
        "6                                                                          (symp:0.0306949,furc:0.0355318):0.0185119\n",
        "7                                                                                                     nerv:0.0432739\n",
        "8                   (nerv:0.0432739,(lant:0.0397762,(symp:0.0306949,furc:0.0355318):0.0185119):0.00736161):0.0737969\n",
        "9 (outg:0.0737969,(nerv:0.0432739,(lant:0.0397762,(symp:0.0306949,furc:0.0355318):0.0185119):0.00736161):0.0737969);\n",
        "           x   y ymin ymax\n",
        "1 0.07379690 0.9  0.8  1.0\n",
        "2 0.08115851 0.4  0.0  0.6\n",
        "3 0.12093471 0.5  0.4  0.6\n",
        "4 0.13036531 0.3  0.2  0.4\n",
        "5 0.13520221 0.1  0.0  0.2\n",
        "6 0.09967041 0.2  0.0  0.4\n",
        "7 0.11707080 0.7  0.6  0.8\n",
        "8 0.07379690 0.6  0.0  0.8\n",
        "9 0.00000000 0.8  0.0  1.0\n",
        "[1] 0.0737969 0.1209347 0.1303653 0.1352022 0.1170708\n",
        "[1] 0.003\n",
        "[1] \"mse 0.001844796\"\n",
        "[1] 0.001844796\n",
        "[1] \"here\"\n",
        "[1] \"1 1 0\"\n",
        "[1] \"2 1 0.000854859999999999\"\n",
        "[1] \"2 2 0\"\n",
        "[1] \"3 1 -0.00070636\"\n",
        "[1] \"3 2 -0.00052454\"\n",
        "[1] \"3 3 0\"\n",
        "[1] \"4 1 -0.000148549999999999\"\n",
        "[1] \"4 2 0\"\n",
        "[1] \"4 3 0.00052454\"\n",
        "[1] \"4 4 0\"\n",
        "[1] \"5 1 0\"\n",
        "[1] \"5 2 -0.000330400000000002\"\n",
        "[1] \"5 3 0.000706400000000003\"\n",
        "[1] \"5 4 -0.000375899999999998\"\n",
        "[1] \"5 5 0\"\n",
        " [1] \"#FF0000\" \"#FF0C00\" \"#FF1900\" \"#FF2500\" \"#FF3200\" \"#FF3E00\" \"#FF4B00\"\n",
        " [8] \"#FF5700\" \"#FF6400\" \"#FF7000\" \"#FF7D00\" \"#FF8900\" \"#FF9600\" \"#FFA200\"\n",
        "[15] \"#FFAA00\" \"#FFB100\" \"#FFB800\" \"#FFBF00\" \"#FFC600\" \"#FFCC00\" \"#FFD300\"\n",
        "[22] \"#FFDA00\" \"#FFE100\" \"#FFE800\" \"#FFEF00\" \"#FFF500\" \"#FFFC00\" \"#FFFF0C\"\n",
        "[29] \"#FFFF20\" \"#FFFF33\" \"#FFFF47\" \"#FFFF5A\" \"#FFFF6D\" \"#FFFF81\" \"#FFFF94\"\n",
        "[36] \"#FFFFA7\" \"#FFFFBB\" \"#FFFFCE\" \"#FFFFE1\" \"#FFFFF5\" \"#F5FFF5\" \"#E1FFE1\"\n",
        "[43] \"#CEFFCE\" \"#BBFFBB\" \"#A7FFA7\" \"#94FF94\" \"#81FF81\" \"#6DFF6D\" \"#5AFF5A\"\n",
        "[50] \"#47FF47\" \"#33FF33\" \"#20FF20\" \"#0CFF0C\" \"#00F806\" \"#00E519\" \"#00D12D\"\n",
        "[57] \"#00BE40\" \"#00AB53\" \"#009767\" \"#00847A\" \"#00708E\" \"#005DA1\" \"#004AB4\"\n",
        "[64] \"#0036C8\" \"#0023DB\" \"#0010EE\" \"#0000FB\" \"#0000E8\" \"#0000D5\" \"#0000C1\"\n",
        "[71] \"#0000AE\" \"#00009A\" \"#000087\" \"#000074\" \"#000060\" \"#00004D\" \"#00003A\"\n",
        "[78] \"#000026\" \"#000013\" \"#000000\"\n",
        " [1] 0.500 0.505 0.510 0.515 0.520 0.525 0.530 0.535 0.540 0.545 0.550 0.555\n",
        "[13] 0.560 0.565 0.570 0.575 0.580 0.585 0.590 0.595 0.600 0.605 0.610 0.615\n",
        "[25] 0.620 0.625 0.630 0.635 0.640 0.645 0.650 0.655 0.660 0.665 0.670 0.675\n",
        "[37] 0.680 0.685 0.690 0.695 0.700 0.705 0.710 0.715 0.720 0.725 0.730 0.735\n",
        "[49] 0.740 0.745 0.750 0.755 0.760 0.765 0.770 0.775 0.780 0.785 0.790 0.795\n",
        "[61] 0.800 0.805 0.810 0.815 0.820 0.825 0.830 0.835 0.840 0.845 0.850 0.855\n",
        "[73] 0.860 0.865 0.870 0.875 0.880 0.885 0.890 0.895 0.900\n",
        "         nerv        furc        lant        symp       outg\n",
        "1  0.00000000  0.00085486 -0.00070636 -0.00014855  0.0000000\n",
        "2  0.00085486  0.00000000 -0.00052454  0.00000000 -0.0003304\n",
        "3 -0.00070636 -0.00052454  0.00000000  0.00052454  0.0007064\n",
        "4 -0.00014855  0.00000000  0.00052454  0.00000000 -0.0003759\n",
        "5  0.00000000 -0.00033040  0.00070640 -0.00037590  0.0000000\n"
       ]
      },
      {
       "metadata": {},
       "output_type": "display_data",
       "png": "[encoded data removed]"
      }
     ],
     "prompt_number": 138
    },
    {
     "cell_type": "code",
     "collapsed": false,
     "input": [
      "%%R -h 400 -w 800\n",
      "par(mfrow=c(1,2))\n",
      "plot_tree(\"project_lantanoides/analysis_treemix/SNPs_m1\", lwd=2)\n",
      "plot_resid(\"project_lantanoides/analysis_treemix/SNPs_m1\",\n",
      "           \"project_lantanoides/analysis_treemix/poporder\")"
     ],
     "language": "python",
     "metadata": {},
     "outputs": [
      {
       "metadata": {},
       "output_type": "display_data",
       "text": [
        "   V1   V2       V3      V4      V5 V6 V7 V8 V9 V10\n",
        "1   1 outg NOT_ROOT NOT_MIG     TIP 33 NA NA NA  NA\n",
        "2   2 <NA> NOT_ROOT NOT_MIG NOT_TIP 32  3  1 16   2\n",
        "3   3 lant NOT_ROOT NOT_MIG     TIP  2 NA NA NA  NA\n",
        "4   4 symp NOT_ROOT NOT_MIG     TIP 16 NA NA NA  NA\n",
        "5  15 furc NOT_ROOT NOT_MIG     TIP 16 NA NA NA  NA\n",
        "6  16 <NA> NOT_ROOT NOT_MIG NOT_TIP  2  4  1 15   1\n",
        "7  31 nerv NOT_ROOT NOT_MIG     TIP 32 NA NA NA  NA\n",
        "8  32 <NA> NOT_ROOT NOT_MIG NOT_TIP 33 31  1  2   3\n",
        "9  33 <NA>     ROOT NOT_MIG NOT_TIP 33  1  1 32   4\n",
        "10 34 <NA> NOT_ROOT     MIG NOT_TIP 16 15 NA NA  NA\n",
        "                                                                                                                 V11\n",
        "1                                                                                                     outg:0.0727818\n",
        "2                                               (lant:0.0387222,(symp:0.030191,furc:0.0360352):0.0195665):0.00904034\n",
        "3                                                                                                     lant:0.0387222\n",
        "4                                                                                                      symp:0.030191\n",
        "5                                                                                                     furc:0.0360352\n",
        "6                                                                           (symp:0.030191,furc:0.0360352):0.0195665\n",
        "7                                                                                                     nerv:0.0520042\n",
        "8                    (nerv:0.0520042,(lant:0.0387222,(symp:0.030191,furc:0.0360352):0.0195665):0.00904034):0.0727818\n",
        "9  (outg:0.0727818,(nerv:0.0520042,(lant:0.0387222,(symp:0.030191,furc:0.0360352):0.0195665):0.00904034):0.0727818);\n",
        "10                                                                                                              <NA>\n",
        "            x   y ymin ymax\n",
        "1  0.07278180 0.9  0.8  1.0\n",
        "2  0.08182214 0.4  0.0  0.6\n",
        "3  0.12054434 0.5  0.4  0.6\n",
        "4  0.13157964 0.3  0.2  0.4\n",
        "5  0.13742384 0.1  0.0  0.2\n",
        "6  0.10138864 0.2  0.0  0.4\n",
        "7  0.11784481 0.7  0.6  0.8\n",
        "8  0.07278180 0.6  0.0  0.8\n",
        "9  0.00000000 0.8  0.0  1.0\n",
        "10 0.12324604  NA  0.0  0.2\n",
        "[1] \"0.606558 0.10138864 0.13742384\"\n",
        "[1] 0.0727818 0.1205443 0.1315796 0.1374238 0.1178448\n",
        "[1] 0.003\n",
        "[1] \"mse 0.001844796\"\n",
        "[1] 0.001844796\n",
        "[1] \"here\"\n",
        "[1] \"1 1 0\"\n",
        "[1] \"2 1 0\"\n",
        "[1] \"2 2 0\"\n",
        "[1] \"3 1 -3.81999999999987e-06\"\n",
        "[1] \"3 2 -0.000272590000000001\"\n",
        "[1] \"3 3 0\"\n",
        "[1] \"4 1 3.81999999999987e-06\"\n",
        "[1] \"4 2 -2.70000000000131e-07\"\n",
        "[1] \"4 3 0.00027285\"\n",
        "[1] \"4 4 0\"\n",
        "[1] \"5 1 0\"\n",
        "[1] \"5 2 0.0002729\"\n",
        "[1] \"5 3 3.60000000000291e-06\"\n",
        "[1] \"5 4 -0.0002764\"\n",
        "[1] \"5 5 0\"\n",
        " [1] \"#FF0000\" \"#FF0C00\" \"#FF1900\" \"#FF2500\" \"#FF3200\" \"#FF3E00\" \"#FF4B00\"\n",
        " [8] \"#FF5700\" \"#FF6400\" \"#FF7000\" \"#FF7D00\" \"#FF8900\" \"#FF9600\" \"#FFA200\"\n",
        "[15] \"#FFAA00\" \"#FFB100\" \"#FFB800\" \"#FFBF00\" \"#FFC600\" \"#FFCC00\" \"#FFD300\"\n",
        "[22] \"#FFDA00\" \"#FFE100\" \"#FFE800\" \"#FFEF00\" \"#FFF500\" \"#FFFC00\" \"#FFFF0C\"\n",
        "[29] \"#FFFF20\" \"#FFFF33\" \"#FFFF47\" \"#FFFF5A\" \"#FFFF6D\" \"#FFFF81\" \"#FFFF94\"\n",
        "[36] \"#FFFFA7\" \"#FFFFBB\" \"#FFFFCE\" \"#FFFFE1\" \"#FFFFF5\" \"#F5FFF5\" \"#E1FFE1\"\n",
        "[43] \"#CEFFCE\" \"#BBFFBB\" \"#A7FFA7\" \"#94FF94\" \"#81FF81\" \"#6DFF6D\" \"#5AFF5A\"\n",
        "[50] \"#47FF47\" \"#33FF33\" \"#20FF20\" \"#0CFF0C\" \"#00F806\" \"#00E519\" \"#00D12D\"\n",
        "[57] \"#00BE40\" \"#00AB53\" \"#009767\" \"#00847A\" \"#00708E\" \"#005DA1\" \"#004AB4\"\n",
        "[64] \"#0036C8\" \"#0023DB\" \"#0010EE\" \"#0000FB\" \"#0000E8\" \"#0000D5\" \"#0000C1\"\n",
        "[71] \"#0000AE\" \"#00009A\" \"#000087\" \"#000074\" \"#000060\" \"#00004D\" \"#00003A\"\n",
        "[78] \"#000026\" \"#000013\" \"#000000\"\n",
        " [1] 0.500 0.505 0.510 0.515 0.520 0.525 0.530 0.535 0.540 0.545 0.550 0.555\n",
        "[13] 0.560 0.565 0.570 0.575 0.580 0.585 0.590 0.595 0.600 0.605 0.610 0.615\n",
        "[25] 0.620 0.625 0.630 0.635 0.640 0.645 0.650 0.655 0.660 0.665 0.670 0.675\n",
        "[37] 0.680 0.685 0.690 0.695 0.700 0.705 0.710 0.715 0.720 0.725 0.730 0.735\n",
        "[49] 0.740 0.745 0.750 0.755 0.760 0.765 0.770 0.775 0.780 0.785 0.790 0.795\n",
        "[61] 0.800 0.805 0.810 0.815 0.820 0.825 0.830 0.835 0.840 0.845 0.850 0.855\n",
        "[73] 0.860 0.865 0.870 0.875 0.880 0.885 0.890 0.895 0.900\n",
        "       nerv        furc        lant        symp       outg\n",
        "1  0.00e+00  0.00000000 -0.00000382  0.00000382  0.0000000\n",
        "2  0.00e+00  0.00000000 -0.00027259 -0.00000027  0.0002729\n",
        "3 -3.82e-06 -0.00027259  0.00000000  0.00027285  0.0000036\n",
        "4  3.82e-06 -0.00000027  0.00027285  0.00000000 -0.0002764\n",
        "5  0.00e+00  0.00027290  0.00000360 -0.00027640  0.0000000\n"
       ]
      },
      {
       "metadata": {},
       "output_type": "display_data",
       "png": "[encoded data removed]"
      }
     ],
     "prompt_number": 139
    },
    {
     "cell_type": "code",
     "collapsed": false,
     "input": [
      "%%R -h 400 -w 800\n",
      "par(mfrow=c(1,2))\n",
      "plot_tree(\"project_lantanoides/analysis_treemix/SNPs_m2\", lwd=2)\n",
      "plot_resid(\"project_lantanoides/analysis_treemix/SNPs_m2\",\n",
      "           \"project_lantanoides/analysis_treemix/poporder\")"
     ],
     "language": "python",
     "metadata": {},
     "outputs": [
      {
       "metadata": {},
       "output_type": "display_data",
       "text": [
        "   V1   V2       V3      V4      V5 V6 V7 V8 V9 V10\n",
        "1   1 outg NOT_ROOT NOT_MIG     TIP 33 NA NA NA  NA\n",
        "2   2 <NA> NOT_ROOT NOT_MIG NOT_TIP 32  3  1 16   2\n",
        "3   3 lant NOT_ROOT NOT_MIG     TIP  2 NA NA NA  NA\n",
        "4   4 symp NOT_ROOT NOT_MIG     TIP 16 NA NA NA  NA\n",
        "5  15 furc NOT_ROOT NOT_MIG     TIP 16 NA NA NA  NA\n",
        "6  16 <NA> NOT_ROOT NOT_MIG NOT_TIP  2  4  1 15   1\n",
        "7  31 nerv NOT_ROOT NOT_MIG     TIP 32 NA NA NA  NA\n",
        "8  32 <NA> NOT_ROOT NOT_MIG NOT_TIP 33 31  1  2   3\n",
        "9  33 <NA>     ROOT NOT_MIG NOT_TIP 33 32  4  1   1\n",
        "10 34 <NA> NOT_ROOT     MIG NOT_TIP 16 15 NA NA  NA\n",
        "11 49 <NA> NOT_ROOT     MIG NOT_TIP 33  1 NA NA  NA\n",
        "                                                                                                                  V11\n",
        "1                                                                                                       outg:0.145462\n",
        "2                                                (lant:0.0381693,(symp:0.0270886,furc:0.0491967):0.022676):0.00966781\n",
        "3                                                                                                      lant:0.0381693\n",
        "4                                                                                                      symp:0.0270886\n",
        "5                                                                                                      furc:0.0491967\n",
        "6                                                                            (symp:0.0270886,furc:0.0491967):0.022676\n",
        "7                                                                                                      nerv:0.0524267\n",
        "8                   (nerv:0.0524267,(lant:0.0381693,(symp:0.0270886,furc:0.0491967):0.022676):0.00966781):1.96937e-05\n",
        "9  ((nerv:0.0524267,(lant:0.0381693,(symp:0.0270886,furc:0.0491967):0.022676):0.00966781):1.96937e-05,outg:0.145462);\n",
        "10                                                                                                               <NA>\n",
        "11                                                                                                               <NA>\n",
        "              x   y ymin ymax\n",
        "1  0.1454616937 0.1  0.0  0.2\n",
        "2  0.0096875037 0.6  0.2  0.8\n",
        "3  0.0478568037 0.7  0.6  0.8\n",
        "4  0.0594521037 0.5  0.4  0.6\n",
        "5  0.0710897561 0.3  0.2  0.4\n",
        "6  0.0323635037 0.4  0.2  0.6\n",
        "7  0.0451364298 0.9  0.8  1.0\n",
        "8  0.0000196937 0.8  0.2  1.0\n",
        "9  0.0000000000 0.2  0.0  1.0\n",
        "10 0.0474027348  NA  0.2  0.4\n",
        "11 0.0000196937  NA  0.0  0.2\n",
        "[1] \"0.388348 0.0323635037 0.0710897561100534\"\n",
        "[1] \"0.000135387 0 0.1454616937\"\n",
        "[1] 0.14546169 0.04785680 0.05945210 0.07108976 0.04513643\n",
        "[1] 0.003\n",
        "[1] \"mse 0.001844796\"\n",
        "[1] 0.001844796\n",
        "[1] \"here\"\n",
        "[1] \"1 1 0\"\n",
        "[1] \"2 1 0\"\n",
        "[1] \"2 2 0\"\n",
        "[1] \"3 1 9.99999999994061e-09\"\n",
        "[1] \"3 2 0\"\n",
        "[1] \"3 3 0\"\n",
        "[1] \"4 1 -9.99999999994061e-09\"\n",
        "[1] \"4 2 0\"\n",
        "[1] \"4 3 0\"\n",
        "[1] \"4 4 0\"\n",
        "[1] \"5 1 0\"\n",
        "[1] \"5 2 0\"\n",
        "[1] \"5 3 0\"\n",
        "[1] \"5 4 9.99999999994061e-08\"\n",
        "[1] \"5 5 0\"\n",
        " [1] \"#FF0000\" \"#FF0C00\" \"#FF1900\" \"#FF2500\" \"#FF3200\" \"#FF3E00\" \"#FF4B00\"\n",
        " [8] \"#FF5700\" \"#FF6400\" \"#FF7000\" \"#FF7D00\" \"#FF8900\" \"#FF9600\" \"#FFA200\"\n",
        "[15] \"#FFAA00\" \"#FFB100\" \"#FFB800\" \"#FFBF00\" \"#FFC600\" \"#FFCC00\" \"#FFD300\"\n",
        "[22] \"#FFDA00\" \"#FFE100\" \"#FFE800\" \"#FFEF00\" \"#FFF500\" \"#FFFC00\" \"#FFFF0C\"\n",
        "[29] \"#FFFF20\" \"#FFFF33\" \"#FFFF47\" \"#FFFF5A\" \"#FFFF6D\" \"#FFFF81\" \"#FFFF94\"\n",
        "[36] \"#FFFFA7\" \"#FFFFBB\" \"#FFFFCE\" \"#FFFFE1\" \"#FFFFF5\" \"#F5FFF5\" \"#E1FFE1\"\n",
        "[43] \"#CEFFCE\" \"#BBFFBB\" \"#A7FFA7\" \"#94FF94\" \"#81FF81\" \"#6DFF6D\" \"#5AFF5A\"\n",
        "[50] \"#47FF47\" \"#33FF33\" \"#20FF20\" \"#0CFF0C\" \"#00F806\" \"#00E519\" \"#00D12D\"\n",
        "[57] \"#00BE40\" \"#00AB53\" \"#009767\" \"#00847A\" \"#00708E\" \"#005DA1\" \"#004AB4\"\n",
        "[64] \"#0036C8\" \"#0023DB\" \"#0010EE\" \"#0000FB\" \"#0000E8\" \"#0000D5\" \"#0000C1\"\n",
        "[71] \"#0000AE\" \"#00009A\" \"#000087\" \"#000074\" \"#000060\" \"#00004D\" \"#00003A\"\n",
        "[78] \"#000026\" \"#000013\" \"#000000\"\n",
        " [1] 0.500 0.505 0.510 0.515 0.520 0.525 0.530 0.535 0.540 0.545 0.550 0.555\n",
        "[13] 0.560 0.565 0.570 0.575 0.580 0.585 0.590 0.595 0.600 0.605 0.610 0.615\n",
        "[25] 0.620 0.625 0.630 0.635 0.640 0.645 0.650 0.655 0.660 0.665 0.670 0.675\n",
        "[37] 0.680 0.685 0.690 0.695 0.700 0.705 0.710 0.715 0.720 0.725 0.730 0.735\n",
        "[49] 0.740 0.745 0.750 0.755 0.760 0.765 0.770 0.775 0.780 0.785 0.790 0.795\n",
        "[61] 0.800 0.805 0.810 0.815 0.820 0.825 0.830 0.835 0.840 0.845 0.850 0.855\n",
        "[73] 0.860 0.865 0.870 0.875 0.880 0.885 0.890 0.895 0.900\n",
        "    nerv furc  lant   symp  outg\n",
        "1  0e+00    0 1e-08 -1e-08 0e+00\n",
        "2  0e+00    0 0e+00  0e+00 0e+00\n",
        "3  1e-08    0 0e+00  0e+00 0e+00\n",
        "4 -1e-08    0 0e+00  0e+00 1e-07\n",
        "5  0e+00    0 0e+00  1e-07 0e+00\n"
       ]
      },
      {
       "metadata": {},
       "output_type": "display_data",
       "png": "[encoded data removed]"
      }
     ],
     "prompt_number": 140
    },
    {
     "cell_type": "code",
     "collapsed": false,
     "input": [],
     "language": "python",
     "metadata": {},
     "outputs": []
    }
   ],
   "metadata": {}
  }
 ]
}