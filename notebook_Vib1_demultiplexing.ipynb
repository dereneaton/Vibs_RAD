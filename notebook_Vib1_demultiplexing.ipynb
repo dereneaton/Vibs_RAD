{
 "metadata": {
  "name": "",
  "signature": "sha256:b01bc942e535913ee42747b8216a31c596d568ac60a5bea62a426863b0acfb33"
 },
 "nbformat": 3,
 "nbformat_minor": 0,
 "worksheets": [
  {
   "cells": [
    {
     "cell_type": "markdown",
     "metadata": {},
     "source": [
      "# Viburnum RADseq project\n",
      "### Notebook 1: Demultiplexing  \n",
      "\n",
      "-----------------------   \n",
      "\n"
     ]
    },
    {
     "cell_type": "markdown",
     "metadata": {},
     "source": [
      "### Organization  \n",
      "This notebook uses the barcodes file and the raw RADseq data to separate the data into separate files for each individual sample in the data set. We use _pyRAD_ (v.2.15), allowing for one base mismatch. The reads are 100 bp long generated on Illumina HiSEQ, and the barcodes are 10 bp long. The RAD library was prepared by Floragenex Inc., using the PstI enzyme.  "
     ]
    },
    {
     "cell_type": "code",
     "collapsed": false,
     "input": [
      "%%bash\n",
      "## create a working directory for data assembly\n",
      "mkdir -p demultiplex1/\n",
      "mkdir -p demultiplex2/"
     ],
     "language": "python",
     "metadata": {},
     "outputs": [],
     "prompt_number": 17
    },
    {
     "cell_type": "markdown",
     "metadata": {},
     "source": [
      "### Setup the params file for demultiplexing"
     ]
    },
    {
     "cell_type": "code",
     "collapsed": false,
     "input": [
      "%%bash\n",
      "## create template params file\n",
      "~/Dropbox/pyrad-git/pyRAD -n"
     ],
     "language": "python",
     "metadata": {},
     "outputs": [
      {
       "output_type": "stream",
       "stream": "stdout",
       "text": [
        "\tfile params.txt already exists\n"
       ]
      }
     ],
     "prompt_number": 18
    },
    {
     "cell_type": "code",
     "collapsed": false,
     "input": [
      "%%bash\n",
      "## substitute new params into file\n",
      "sed -i '/## 1. /c\\demultiplex1/           ## 1. working directory ' params.txt\n",
      "sed -i '/## 2. /c\\/home/deren/Documents/RADSEQ_DATA/Viburnums/data1/*.gz        ##2. data loc. ' params.txt\n",
      "sed -i '/## 3. /c\\/home/deren/Documents/RADSEQ_DATA/barcodes/Viburnum.barcodes  ##3. barcodes ' params.txt"
     ],
     "language": "python",
     "metadata": {},
     "outputs": [],
     "prompt_number": 21
    },
    {
     "cell_type": "code",
     "collapsed": false,
     "input": [
      "%%bash\n",
      "head -n 16 params.txt"
     ],
     "language": "python",
     "metadata": {},
     "outputs": [
      {
       "output_type": "stream",
       "stream": "stdout",
       "text": [
        "==== parameter inputs for pyRAD version 2.15  ============================  affected step ==\n",
        "demultiplex1/           ## 1. working directory \n",
        "/home/deren/Documents/RADSEQ_DATA/Viburnums/data1/*.gz ##2. data loc. \n",
        "/home/deren/Documents/RADSEQ_DATA/barcodes/Viburnum.barcodes ##3. barcodes \n",
        "usearch7.0.1090_i86linux32  ## 4. command (or path) to call usearch v.7             (s3,s6)\n",
        "muscle                      ## 5. command (or path) to call muscle                  (s3,s7)\n",
        "TGCAG                       ## 6. restriction overhang (e.g., C|TGCAG -> TGCAG)     (s1,s2)\n",
        "20                     ## 7. N processors      \n",
        "6                      ## 8. MinDepth          \n",
        "5                      ## 9. NQual             \n",
        ".85                    ## 10. clust threshold  \n",
        "rad                         ## 11. Datatype: rad,gbs,ddrad,pairgbs,pairddrad,merge  (all)\n",
        "4                           ## 12. MinCov: min samples in a final locus             (s7)\n",
        "3                           ## 13. MaxSH: max inds with shared hetero site          (s7)\n",
        "c85d6m4p3              ## 14. outname          \n",
        "==== optional params below this line ===================================  affected step ==\n"
       ]
      }
     ],
     "prompt_number": 22
    },
    {
     "cell_type": "markdown",
     "metadata": {},
     "source": [
      "### Demultiplex lane 1"
     ]
    },
    {
     "cell_type": "code",
     "collapsed": false,
     "input": [
      "stderr = ! ~/Dropbox/pyrad-git/pyRAD -p params.txt -s 1"
     ],
     "language": "python",
     "metadata": {},
     "outputs": []
    },
    {
     "cell_type": "markdown",
     "metadata": {},
     "source": [
      "### Setup the params file for demultiplexing lane 2"
     ]
    },
    {
     "cell_type": "code",
     "collapsed": false,
     "input": [
      "%%bash\n",
      "## substitute new params into file\n",
      "sed -i '/## 1. /c\\demultiplex2           ## 1. working directory ' params.txt\n",
      "sed -i '/## 2. /c\\/home/deren/Documents/RADSEQ_DATA/Viburnums/data2/*.gz   ##2. data loc. ' params.txt\n",
      "sed -i '/## 3. /c\\/home/deren/Documents/RADSEQ_DATA/barcodes/Viburnum.barcodes  ##3. barcodes ' params.txt"
     ],
     "language": "python",
     "metadata": {},
     "outputs": []
    },
    {
     "cell_type": "markdown",
     "metadata": {},
     "source": [
      "### Demultiplex lane 2"
     ]
    },
    {
     "cell_type": "code",
     "collapsed": false,
     "input": [
      "stderr = ! ~/Dropbox/pyrad-git/pyRAD -p params.txt -s 1"
     ],
     "language": "python",
     "metadata": {},
     "outputs": []
    },
    {
     "cell_type": "markdown",
     "metadata": {},
     "source": [
      "### Results of demultiplexing lane 1"
     ]
    },
    {
     "cell_type": "code",
     "collapsed": false,
     "input": [
      "%%bash\n",
      "head -n 100 demultiplex/stats/s1.sorting.txt"
     ],
     "language": "python",
     "metadata": {},
     "outputs": []
    },
    {
     "cell_type": "markdown",
     "metadata": {},
     "source": [
      "### Results of demultiplexing lane 2"
     ]
    },
    {
     "cell_type": "code",
     "collapsed": false,
     "input": [
      "%%bash\n",
      "head -n 100 demultiplex/stats/s2.sorting.txt"
     ],
     "language": "python",
     "metadata": {},
     "outputs": []
    },
    {
     "cell_type": "markdown",
     "metadata": {},
     "source": [
      "### Combine the two libraries"
     ]
    },
    {
     "cell_type": "code",
     "collapsed": false,
     "input": [
      "## make a directory for the demultiplexed files\n",
      "! mkdir -p /home/deren/Documents/RADSEQ_DATA/Viburnums/demultiplexed/\n",
      "\n",
      "## combine the files\n",
      "import glob\n",
      "for sample in glob.glob(\"demultiplex1/*.gz\"):\n",
      "    f1 = ###\n"
     ],
     "language": "python",
     "metadata": {},
     "outputs": []
    }
   ],
   "metadata": {}
  }
 ]
}